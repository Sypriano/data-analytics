{
  "nbformat": 4,
  "nbformat_minor": 0,
  "metadata": {
    "colab": {
      "provenance": [],
      "collapsed_sections": [
        "649S6qlgqol6",
        "ca0osWba2PMQ",
        "UYOZITvtETkF",
        "1DE4nFOjV12Z"
      ]
    },
    "kernelspec": {
      "name": "python3",
      "display_name": "Python 3"
    },
    "language_info": {
      "name": "python"
    }
  },
  "cells": [
    {
      "cell_type": "markdown",
      "source": [
        "# Descriptive statistics\n",
        "\n",
        "**Descriptive statistics** are a set of tools we can use to extract the main information from a large set of data points.The most commom tools\n",
        "\n",
        "\n",
        "Measures of central tendency:\n",
        "1. Mean\n",
        "2. Median\n",
        "3. Mode\n",
        "\n",
        "Measures of dispersion:\n",
        "1. Standard deviation and variance\n",
        "2. Quantiles, quartiles and percentiles\n",
        "\n",
        "Useful analytical tools for reporting:\n",
        "\n",
        "1. Detection of outliers\n",
        "2. Correlation coefficient\n"
      ],
      "metadata": {
        "id": "eyAhGQKKappL"
      }
    },
    {
      "cell_type": "code",
      "source": [
        "import pandas as pd\n",
        "import numpy as np\n",
        "from scipy import stats\n",
        "import seaborn as sns \n",
        "from scipy.stats import pearsonr\n",
        "from scipy.stats import spearmanr"
      ],
      "metadata": {
        "id": "HknLN0mXJeXi"
      },
      "execution_count": 1,
      "outputs": []
    },
    {
      "cell_type": "code",
      "execution_count": 2,
      "metadata": {
        "id": "mmvZlK0egI7y",
        "colab": {
          "base_uri": "https://localhost:8080/",
          "height": 204
        },
        "outputId": "9e63f15d-1926-4624-bb0b-6a4aeba584c7"
      },
      "outputs": [
        {
          "output_type": "execute_result",
          "data": {
            "text/plain": [
              "        Region       Condition  Rooms     Rent  Year_Construction   Space\n",
              "0        Mitte  first_time_use    4.0  2659.00               2019  117.20\n",
              "1    Kreuzberg  first_time_use    1.0  1200.00               2020   29.33\n",
              "2     Köpenick       well_kept    2.0   979.00               1997   83.61\n",
              "3  Wilmersdorf       well_kept    4.0  1830.22               1900  171.18\n",
              "4    Kreuzberg  first_time_use    2.0  2272.00               2020   88.27"
            ],
            "text/html": [
              "\n",
              "  <div id=\"df-1b7f358a-db06-46dd-b2e5-98488b47fcb4\">\n",
              "    <div class=\"colab-df-container\">\n",
              "      <div>\n",
              "<style scoped>\n",
              "    .dataframe tbody tr th:only-of-type {\n",
              "        vertical-align: middle;\n",
              "    }\n",
              "\n",
              "    .dataframe tbody tr th {\n",
              "        vertical-align: top;\n",
              "    }\n",
              "\n",
              "    .dataframe thead th {\n",
              "        text-align: right;\n",
              "    }\n",
              "</style>\n",
              "<table border=\"1\" class=\"dataframe\">\n",
              "  <thead>\n",
              "    <tr style=\"text-align: right;\">\n",
              "      <th></th>\n",
              "      <th>Region</th>\n",
              "      <th>Condition</th>\n",
              "      <th>Rooms</th>\n",
              "      <th>Rent</th>\n",
              "      <th>Year_Construction</th>\n",
              "      <th>Space</th>\n",
              "    </tr>\n",
              "  </thead>\n",
              "  <tbody>\n",
              "    <tr>\n",
              "      <th>0</th>\n",
              "      <td>Mitte</td>\n",
              "      <td>first_time_use</td>\n",
              "      <td>4.0</td>\n",
              "      <td>2659.00</td>\n",
              "      <td>2019</td>\n",
              "      <td>117.20</td>\n",
              "    </tr>\n",
              "    <tr>\n",
              "      <th>1</th>\n",
              "      <td>Kreuzberg</td>\n",
              "      <td>first_time_use</td>\n",
              "      <td>1.0</td>\n",
              "      <td>1200.00</td>\n",
              "      <td>2020</td>\n",
              "      <td>29.33</td>\n",
              "    </tr>\n",
              "    <tr>\n",
              "      <th>2</th>\n",
              "      <td>Köpenick</td>\n",
              "      <td>well_kept</td>\n",
              "      <td>2.0</td>\n",
              "      <td>979.00</td>\n",
              "      <td>1997</td>\n",
              "      <td>83.61</td>\n",
              "    </tr>\n",
              "    <tr>\n",
              "      <th>3</th>\n",
              "      <td>Wilmersdorf</td>\n",
              "      <td>well_kept</td>\n",
              "      <td>4.0</td>\n",
              "      <td>1830.22</td>\n",
              "      <td>1900</td>\n",
              "      <td>171.18</td>\n",
              "    </tr>\n",
              "    <tr>\n",
              "      <th>4</th>\n",
              "      <td>Kreuzberg</td>\n",
              "      <td>first_time_use</td>\n",
              "      <td>2.0</td>\n",
              "      <td>2272.00</td>\n",
              "      <td>2020</td>\n",
              "      <td>88.27</td>\n",
              "    </tr>\n",
              "  </tbody>\n",
              "</table>\n",
              "</div>\n",
              "      <button class=\"colab-df-convert\" onclick=\"convertToInteractive('df-1b7f358a-db06-46dd-b2e5-98488b47fcb4')\"\n",
              "              title=\"Convert this dataframe to an interactive table.\"\n",
              "              style=\"display:none;\">\n",
              "        \n",
              "  <svg xmlns=\"http://www.w3.org/2000/svg\" height=\"24px\"viewBox=\"0 0 24 24\"\n",
              "       width=\"24px\">\n",
              "    <path d=\"M0 0h24v24H0V0z\" fill=\"none\"/>\n",
              "    <path d=\"M18.56 5.44l.94 2.06.94-2.06 2.06-.94-2.06-.94-.94-2.06-.94 2.06-2.06.94zm-11 1L8.5 8.5l.94-2.06 2.06-.94-2.06-.94L8.5 2.5l-.94 2.06-2.06.94zm10 10l.94 2.06.94-2.06 2.06-.94-2.06-.94-.94-2.06-.94 2.06-2.06.94z\"/><path d=\"M17.41 7.96l-1.37-1.37c-.4-.4-.92-.59-1.43-.59-.52 0-1.04.2-1.43.59L10.3 9.45l-7.72 7.72c-.78.78-.78 2.05 0 2.83L4 21.41c.39.39.9.59 1.41.59.51 0 1.02-.2 1.41-.59l7.78-7.78 2.81-2.81c.8-.78.8-2.07 0-2.86zM5.41 20L4 18.59l7.72-7.72 1.47 1.35L5.41 20z\"/>\n",
              "  </svg>\n",
              "      </button>\n",
              "      \n",
              "  <style>\n",
              "    .colab-df-container {\n",
              "      display:flex;\n",
              "      flex-wrap:wrap;\n",
              "      gap: 12px;\n",
              "    }\n",
              "\n",
              "    .colab-df-convert {\n",
              "      background-color: #E8F0FE;\n",
              "      border: none;\n",
              "      border-radius: 50%;\n",
              "      cursor: pointer;\n",
              "      display: none;\n",
              "      fill: #1967D2;\n",
              "      height: 32px;\n",
              "      padding: 0 0 0 0;\n",
              "      width: 32px;\n",
              "    }\n",
              "\n",
              "    .colab-df-convert:hover {\n",
              "      background-color: #E2EBFA;\n",
              "      box-shadow: 0px 1px 2px rgba(60, 64, 67, 0.3), 0px 1px 3px 1px rgba(60, 64, 67, 0.15);\n",
              "      fill: #174EA6;\n",
              "    }\n",
              "\n",
              "    [theme=dark] .colab-df-convert {\n",
              "      background-color: #3B4455;\n",
              "      fill: #D2E3FC;\n",
              "    }\n",
              "\n",
              "    [theme=dark] .colab-df-convert:hover {\n",
              "      background-color: #434B5C;\n",
              "      box-shadow: 0px 1px 3px 1px rgba(0, 0, 0, 0.15);\n",
              "      filter: drop-shadow(0px 1px 2px rgba(0, 0, 0, 0.3));\n",
              "      fill: #FFFFFF;\n",
              "    }\n",
              "  </style>\n",
              "\n",
              "      <script>\n",
              "        const buttonEl =\n",
              "          document.querySelector('#df-1b7f358a-db06-46dd-b2e5-98488b47fcb4 button.colab-df-convert');\n",
              "        buttonEl.style.display =\n",
              "          google.colab.kernel.accessAllowed ? 'block' : 'none';\n",
              "\n",
              "        async function convertToInteractive(key) {\n",
              "          const element = document.querySelector('#df-1b7f358a-db06-46dd-b2e5-98488b47fcb4');\n",
              "          const dataTable =\n",
              "            await google.colab.kernel.invokeFunction('convertToInteractive',\n",
              "                                                     [key], {});\n",
              "          if (!dataTable) return;\n",
              "\n",
              "          const docLinkHtml = 'Like what you see? Visit the ' +\n",
              "            '<a target=\"_blank\" href=https://colab.research.google.com/notebooks/data_table.ipynb>data table notebook</a>'\n",
              "            + ' to learn more about interactive tables.';\n",
              "          element.innerHTML = '';\n",
              "          dataTable['output_type'] = 'display_data';\n",
              "          await google.colab.output.renderOutput(dataTable, element);\n",
              "          const docLink = document.createElement('div');\n",
              "          docLink.innerHTML = docLinkHtml;\n",
              "          element.appendChild(docLink);\n",
              "        }\n",
              "      </script>\n",
              "    </div>\n",
              "  </div>\n",
              "  "
            ]
          },
          "metadata": {},
          "execution_count": 2
        }
      ],
      "source": [
        "# Reading dataset\n",
        "rentals = pd.read_csv(\"https://raw.githubusercontent.com/juliandnl/redi_ss20/master/berlin_rental.csv\")\n",
        "rentals.head()"
      ]
    },
    {
      "cell_type": "markdown",
      "source": [
        "-----\n",
        "# PART 1: Measures of central tendency\n",
        "\n",
        "The **mean** is with no doubt the most commom way of expressing the central tendency of the data. However, in many cases, the median or the mode are more appropriate. We must know when it is best to use each of these measures.   \n",
        "\n",
        "The **median** is the value that divide the data points into 2 groups of same size (same number of observations/datapoints).\n",
        "\n",
        "The **mode** is the most commom value in a set of data points.\n"
      ],
      "metadata": {
        "id": "zIk_2N2jhrp-"
      }
    },
    {
      "cell_type": "markdown",
      "source": [
        "![Mean, meadian and mode](https://images.prismic.io/sketchplanations/6ba54e4b-f936-4cf6-bc4e-a889a439c454_81825142840.jpg)"
      ],
      "metadata": {
        "id": "9gTvby9ZOKou"
      }
    },
    {
      "cell_type": "markdown",
      "source": [
        "## Mean and median\n",
        "\n",
        "For `means` and`medians`in `Python`: we can use `numpy` and `pandas`"
      ],
      "metadata": {
        "id": "xM3zfpuoP9uc"
      }
    },
    {
      "cell_type": "code",
      "source": [
        "a = [5, 7, 2, 10, 13, 2000]\n",
        "np.mean(a)"
      ],
      "metadata": {
        "colab": {
          "base_uri": "https://localhost:8080/"
        },
        "id": "e9uLmi-nqyy6",
        "outputId": "f7e870de-f12a-46cb-dbe5-0f49bfb4488c"
      },
      "execution_count": 3,
      "outputs": [
        {
          "output_type": "execute_result",
          "data": {
            "text/plain": [
              "339.5"
            ]
          },
          "metadata": {},
          "execution_count": 3
        }
      ]
    },
    {
      "cell_type": "code",
      "source": [
        "b = [276, 53, 7, 104, 13, 20]\n",
        "np.sort(b)"
      ],
      "metadata": {
        "colab": {
          "base_uri": "https://localhost:8080/"
        },
        "id": "46X_WOHVQYtW",
        "outputId": "f7268f73-5881-483b-d7ba-676ada040313"
      },
      "execution_count": 4,
      "outputs": [
        {
          "output_type": "execute_result",
          "data": {
            "text/plain": [
              "array([  7,  13,  20,  53, 104, 276])"
            ]
          },
          "metadata": {},
          "execution_count": 4
        }
      ]
    },
    {
      "cell_type": "code",
      "source": [
        "c = [276, 53, 7, 13, 20]\n",
        "np.sort(c)"
      ],
      "metadata": {
        "colab": {
          "base_uri": "https://localhost:8080/"
        },
        "id": "hVTl9xJqQqKH",
        "outputId": "3ebf4941-eaf8-49a5-8c51-176c72adf83d"
      },
      "execution_count": 5,
      "outputs": [
        {
          "output_type": "execute_result",
          "data": {
            "text/plain": [
              "array([  7,  13,  20,  53, 276])"
            ]
          },
          "metadata": {},
          "execution_count": 5
        }
      ]
    },
    {
      "cell_type": "code",
      "source": [
        "np.median(a), np.median(b), np.median(c)"
      ],
      "metadata": {
        "colab": {
          "base_uri": "https://localhost:8080/"
        },
        "id": "g86G8iq5q7WP",
        "outputId": "e72d9986-80f9-4397-b70d-e0d8035770bf"
      },
      "execution_count": 6,
      "outputs": [
        {
          "output_type": "execute_result",
          "data": {
            "text/plain": [
              "(8.5, 36.5, 20.0)"
            ]
          },
          "metadata": {},
          "execution_count": 6
        }
      ]
    },
    {
      "cell_type": "markdown",
      "source": [
        "**The median is not affected by the extreme values of a variable**. \n",
        "This is the most important property of the median that you must always remember.\n",
        "How can we demonstrate that in practice?"
      ],
      "metadata": {
        "id": "TK0ExFxDkBEF"
      }
    },
    {
      "cell_type": "code",
      "source": [
        "np.median([1, 4, 7, 8, 10])"
      ],
      "metadata": {
        "id": "I_Q_CdrYldNz",
        "colab": {
          "base_uri": "https://localhost:8080/"
        },
        "outputId": "6a807ac7-7f95-4286-f804-f854208926ee"
      },
      "execution_count": 7,
      "outputs": [
        {
          "output_type": "execute_result",
          "data": {
            "text/plain": [
              "7.0"
            ]
          },
          "metadata": {},
          "execution_count": 7
        }
      ]
    },
    {
      "cell_type": "code",
      "source": [
        "np.median([1, 4, 7, 8, 1000])"
      ],
      "metadata": {
        "id": "xDv53mXfljfV",
        "colab": {
          "base_uri": "https://localhost:8080/"
        },
        "outputId": "4929bf3e-47db-47c0-838f-2cc8a9d19a46"
      },
      "execution_count": 8,
      "outputs": [
        {
          "output_type": "execute_result",
          "data": {
            "text/plain": [
              "7.0"
            ]
          },
          "metadata": {},
          "execution_count": 8
        }
      ]
    },
    {
      "cell_type": "markdown",
      "source": [
        "### Let's compare the mean and median rent prices in Berlin"
      ],
      "metadata": {
        "id": "sGmAJ2VcjUEA"
      }
    },
    {
      "cell_type": "code",
      "source": [
        "rentals.Rent.mean()"
      ],
      "metadata": {
        "id": "tagITQeJjdoi",
        "colab": {
          "base_uri": "https://localhost:8080/"
        },
        "outputId": "7b1636bb-2166-43ac-c765-b14154d780a1"
      },
      "execution_count": 9,
      "outputs": [
        {
          "output_type": "execute_result",
          "data": {
            "text/plain": [
              "1768.560942408377"
            ]
          },
          "metadata": {},
          "execution_count": 9
        }
      ]
    },
    {
      "cell_type": "code",
      "source": [
        "rentals.Rent.median()"
      ],
      "metadata": {
        "id": "oEdLOIpKjfzN",
        "colab": {
          "base_uri": "https://localhost:8080/"
        },
        "outputId": "6867eddb-bce7-4870-c2fe-e74efa78cb36"
      },
      "execution_count": 10,
      "outputs": [
        {
          "output_type": "execute_result",
          "data": {
            "text/plain": [
              "1565.48"
            ]
          },
          "metadata": {},
          "execution_count": 10
        }
      ]
    },
    {
      "cell_type": "markdown",
      "source": [
        "If both the mean and median are describing the central tendency of the same data, why are they so different?\n",
        "\n",
        "Use a **histogram** in the data to try to find the answer:  \n",
        "\n",
        "*Also check [this blog post](https://chartio.com/learn/charts/histogram-complete-guide/) for a very good tutorial on histograms*"
      ],
      "metadata": {
        "id": "eD8NaODLMr9R"
      }
    },
    {
      "cell_type": "code",
      "source": [
        "rentals.Rent.plot.hist()"
      ],
      "metadata": {
        "colab": {
          "base_uri": "https://localhost:8080/",
          "height": 282
        },
        "id": "bQl38Jk8MlJu",
        "outputId": "e9ae31f5-3ec3-4ce5-eafc-36627ad4444b"
      },
      "execution_count": 11,
      "outputs": [
        {
          "output_type": "execute_result",
          "data": {
            "text/plain": [
              "<matplotlib.axes._subplots.AxesSubplot at 0x7f8da2cb9850>"
            ]
          },
          "metadata": {},
          "execution_count": 11
        },
        {
          "output_type": "display_data",
          "data": {
            "text/plain": [
              "<Figure size 432x288 with 1 Axes>"
            ],
            "image/png": "[encoded data removed]"
          },
          "metadata": {
            "needs_background": "light"
          }
        }
      ]
    },
    {
      "cell_type": "markdown",
      "source": [
        "The histogram above shows an example of a variable with **skewed distribution**. It means that there are more datapoints on the left side of the mean than on the right side. In these cases, the median is lower than the mean. Since the median is not affected by the extreme values of a variable, it is more appropriate to use it when the distribution is skewed.\n",
        "\n",
        "<img src=\"https://cdn.analyticsvidhya.com/wp-content/uploads/2020/06/sk1.png\" width=\"600\">\n"
      ],
      "metadata": {
        "id": "fNMqtB8kOfGv"
      }
    },
    {
      "cell_type": "markdown",
      "source": [
        "**The use of mean is only apropriate when the distribution is symmetrical**"
      ],
      "metadata": {
        "id": "x-5J36ukgcKF"
      }
    },
    {
      "cell_type": "markdown",
      "source": [
        "**The more skewed the distribution, the more different are the central tendency**"
      ],
      "metadata": {
        "id": "S44hG5jMhuGE"
      }
    },
    {
      "cell_type": "markdown",
      "source": [
        "-----\n",
        "## Mode\n",
        "\n",
        "This is the most apropriate measure for discrete data, or categorical data (where we make counts of categories)\n",
        "Samples can have one (unimodal), two (bimodal), or many (multimodal) modes\n",
        "\n",
        "<img src=\"https://miro.medium.com/max/810/1*-jZA9f5l1RaEKvPoFMz5BQ.png\" alt=\"Drawing\" width=\"300\"/> \n",
        "\n",
        "**Example:**\n",
        "In the rentals dataset, what is the age of most apartments? When where they build?\n",
        "\n",
        " In other words, what is the **mode** of the variable `year_construction`?"
      ],
      "metadata": {
        "id": "u2PrT_8FkxfU"
      }
    },
    {
      "cell_type": "code",
      "source": [
        "# Mode stands for more frequent\n",
        "rentals.Year_Construction.value_counts().sort_values(ascending=False).head(4)"
      ],
      "metadata": {
        "id": "oT0VRSLLksSA",
        "colab": {
          "base_uri": "https://localhost:8080/"
        },
        "outputId": "8cd0ae85-475b-4431-dd3d-c15f7623777a"
      },
      "execution_count": 12,
      "outputs": [
        {
          "output_type": "execute_result",
          "data": {
            "text/plain": [
              "2019    181\n",
              "2018     58\n",
              "2020     58\n",
              "1900     52\n",
              "Name: Year_Construction, dtype: int64"
            ]
          },
          "metadata": {},
          "execution_count": 12
        }
      ]
    },
    {
      "cell_type": "markdown",
      "source": [
        "Is the distribution of `year_construction` unimodal, bimodal, or multimodal?"
      ],
      "metadata": {
        "id": "RXBo_plndjy0"
      }
    },
    {
      "cell_type": "code",
      "source": [
        "# Percentage of most common value\n",
        "rentals.Year_Construction.value_counts(normalize=True).head(10)"
      ],
      "metadata": {
        "colab": {
          "base_uri": "https://localhost:8080/"
        },
        "id": "jMnJPxhCaw-E",
        "outputId": "9e7e2e73-0643-4f61-b56d-a9c810303c7b"
      },
      "execution_count": 14,
      "outputs": [
        {
          "output_type": "execute_result",
          "data": {
            "text/plain": [
              "2019    0.236911\n",
              "2018    0.075916\n",
              "2020    0.075916\n",
              "1900    0.068063\n",
              "2017    0.058901\n",
              "2016    0.036649\n",
              "2015    0.035340\n",
              "1997    0.020942\n",
              "2014    0.019634\n",
              "1910    0.018325\n",
              "Name: Year_Construction, dtype: float64"
            ]
          },
          "metadata": {},
          "execution_count": 14
        }
      ]
    },
    {
      "cell_type": "code",
      "source": [
        "rentals.Year_Construction.mean()"
      ],
      "metadata": {
        "colab": {
          "base_uri": "https://localhost:8080/"
        },
        "id": "hsUEav4FdwBI",
        "outputId": "62f8ae5b-058e-4331-8cd7-273939b17c2a"
      },
      "execution_count": 64,
      "outputs": [
        {
          "output_type": "execute_result",
          "data": {
            "text/plain": [
              "1983.6950261780105"
            ]
          },
          "metadata": {},
          "execution_count": 64
        }
      ]
    },
    {
      "cell_type": "markdown",
      "source": [
        "**Instead of saying that the average year of construction is 1983 (not so informative), say that most (24%) apartments in the dataset are from year 2019**"
      ],
      "metadata": {
        "id": "iXk3_WF6d36t"
      }
    },
    {
      "cell_type": "markdown",
      "source": [
        "**Bimodal distribution**\n",
        "\n",
        "The plot shows the number of customers that visit a restaurant and the hour that they visit. We can see the 2 modes (2 peaks), representing the lunch peak (12PM) and the dinner peak (7PM). It would be very misleading to use the mean to summarize the time when customers come to the restaurant, because it would be somewhere before 4PM, which is in fact, the time when the restaurant is the least busy\n",
        "\n",
        "<img src=\"https://www.statology.org/wp-content/uploads/2020/06/bimodal3.png\" alt=\"Drawing\" width=\"500\"/> "
      ],
      "metadata": {
        "id": "yUn_8AsehiZj"
      }
    },
    {
      "cell_type": "markdown",
      "source": [
        "### EXERCISE 1\n",
        "\n",
        "Describe the size of apartments in Berlin, in terms of **number of rooms** and **square meters**. Did it change over the years? Which one is more easy to find? Which one is more expensive?"
      ],
      "metadata": {
        "id": "NvbILXdolxEo"
      }
    },
    {
      "cell_type": "code",
      "source": [
        "rentals.head(3)"
      ],
      "metadata": {
        "colab": {
          "base_uri": "https://localhost:8080/",
          "height": 142
        },
        "id": "QyGt5gi6kDlI",
        "outputId": "7f45d882-0f3a-4384-93f2-43c6c160ead1"
      },
      "execution_count": 16,
      "outputs": [
        {
          "output_type": "execute_result",
          "data": {
            "text/plain": [
              "      Region       Condition  Rooms    Rent  Year_Construction   Space\n",
              "0      Mitte  first_time_use    4.0  2659.0               2019  117.20\n",
              "1  Kreuzberg  first_time_use    1.0  1200.0               2020   29.33\n",
              "2   Köpenick       well_kept    2.0   979.0               1997   83.61"
            ],
            "text/html": [
              "\n",
              "  <div id=\"df-90c8e3ce-f7b3-4b88-8552-9472f74e47fa\">\n",
              "    <div class=\"colab-df-container\">\n",
              "      <div>\n",
              "<style scoped>\n",
              "    .dataframe tbody tr th:only-of-type {\n",
              "        vertical-align: middle;\n",
              "    }\n",
              "\n",
              "    .dataframe tbody tr th {\n",
              "        vertical-align: top;\n",
              "    }\n",
              "\n",
              "    .dataframe thead th {\n",
              "        text-align: right;\n",
              "    }\n",
              "</style>\n",
              "<table border=\"1\" class=\"dataframe\">\n",
              "  <thead>\n",
              "    <tr style=\"text-align: right;\">\n",
              "      <th></th>\n",
              "      <th>Region</th>\n",
              "      <th>Condition</th>\n",
              "      <th>Rooms</th>\n",
              "      <th>Rent</th>\n",
              "      <th>Year_Construction</th>\n",
              "      <th>Space</th>\n",
              "    </tr>\n",
              "  </thead>\n",
              "  <tbody>\n",
              "    <tr>\n",
              "      <th>0</th>\n",
              "      <td>Mitte</td>\n",
              "      <td>first_time_use</td>\n",
              "      <td>4.0</td>\n",
              "      <td>2659.0</td>\n",
              "      <td>2019</td>\n",
              "      <td>117.20</td>\n",
              "    </tr>\n",
              "    <tr>\n",
              "      <th>1</th>\n",
              "      <td>Kreuzberg</td>\n",
              "      <td>first_time_use</td>\n",
              "      <td>1.0</td>\n",
              "      <td>1200.0</td>\n",
              "      <td>2020</td>\n",
              "      <td>29.33</td>\n",
              "    </tr>\n",
              "    <tr>\n",
              "      <th>2</th>\n",
              "      <td>Köpenick</td>\n",
              "      <td>well_kept</td>\n",
              "      <td>2.0</td>\n",
              "      <td>979.0</td>\n",
              "      <td>1997</td>\n",
              "      <td>83.61</td>\n",
              "    </tr>\n",
              "  </tbody>\n",
              "</table>\n",
              "</div>\n",
              "      <button class=\"colab-df-convert\" onclick=\"convertToInteractive('df-90c8e3ce-f7b3-4b88-8552-9472f74e47fa')\"\n",
              "              title=\"Convert this dataframe to an interactive table.\"\n",
              "              style=\"display:none;\">\n",
              "        \n",
              "  <svg xmlns=\"http://www.w3.org/2000/svg\" height=\"24px\"viewBox=\"0 0 24 24\"\n",
              "       width=\"24px\">\n",
              "    <path d=\"M0 0h24v24H0V0z\" fill=\"none\"/>\n",
              "    <path d=\"M18.56 5.44l.94 2.06.94-2.06 2.06-.94-2.06-.94-.94-2.06-.94 2.06-2.06.94zm-11 1L8.5 8.5l.94-2.06 2.06-.94-2.06-.94L8.5 2.5l-.94 2.06-2.06.94zm10 10l.94 2.06.94-2.06 2.06-.94-2.06-.94-.94-2.06-.94 2.06-2.06.94z\"/><path d=\"M17.41 7.96l-1.37-1.37c-.4-.4-.92-.59-1.43-.59-.52 0-1.04.2-1.43.59L10.3 9.45l-7.72 7.72c-.78.78-.78 2.05 0 2.83L4 21.41c.39.39.9.59 1.41.59.51 0 1.02-.2 1.41-.59l7.78-7.78 2.81-2.81c.8-.78.8-2.07 0-2.86zM5.41 20L4 18.59l7.72-7.72 1.47 1.35L5.41 20z\"/>\n",
              "  </svg>\n",
              "      </button>\n",
              "      \n",
              "  <style>\n",
              "    .colab-df-container {\n",
              "      display:flex;\n",
              "      flex-wrap:wrap;\n",
              "      gap: 12px;\n",
              "    }\n",
              "\n",
              "    .colab-df-convert {\n",
              "      background-color: #E8F0FE;\n",
              "      border: none;\n",
              "      border-radius: 50%;\n",
              "      cursor: pointer;\n",
              "      display: none;\n",
              "      fill: #1967D2;\n",
              "      height: 32px;\n",
              "      padding: 0 0 0 0;\n",
              "      width: 32px;\n",
              "    }\n",
              "\n",
              "    .colab-df-convert:hover {\n",
              "      background-color: #E2EBFA;\n",
              "      box-shadow: 0px 1px 2px rgba(60, 64, 67, 0.3), 0px 1px 3px 1px rgba(60, 64, 67, 0.15);\n",
              "      fill: #174EA6;\n",
              "    }\n",
              "\n",
              "    [theme=dark] .colab-df-convert {\n",
              "      background-color: #3B4455;\n",
              "      fill: #D2E3FC;\n",
              "    }\n",
              "\n",
              "    [theme=dark] .colab-df-convert:hover {\n",
              "      background-color: #434B5C;\n",
              "      box-shadow: 0px 1px 3px 1px rgba(0, 0, 0, 0.15);\n",
              "      filter: drop-shadow(0px 1px 2px rgba(0, 0, 0, 0.3));\n",
              "      fill: #FFFFFF;\n",
              "    }\n",
              "  </style>\n",
              "\n",
              "      <script>\n",
              "        const buttonEl =\n",
              "          document.querySelector('#df-90c8e3ce-f7b3-4b88-8552-9472f74e47fa button.colab-df-convert');\n",
              "        buttonEl.style.display =\n",
              "          google.colab.kernel.accessAllowed ? 'block' : 'none';\n",
              "\n",
              "        async function convertToInteractive(key) {\n",
              "          const element = document.querySelector('#df-90c8e3ce-f7b3-4b88-8552-9472f74e47fa');\n",
              "          const dataTable =\n",
              "            await google.colab.kernel.invokeFunction('convertToInteractive',\n",
              "                                                     [key], {});\n",
              "          if (!dataTable) return;\n",
              "\n",
              "          const docLinkHtml = 'Like what you see? Visit the ' +\n",
              "            '<a target=\"_blank\" href=https://colab.research.google.com/notebooks/data_table.ipynb>data table notebook</a>'\n",
              "            + ' to learn more about interactive tables.';\n",
              "          element.innerHTML = '';\n",
              "          dataTable['output_type'] = 'display_data';\n",
              "          await google.colab.output.renderOutput(dataTable, element);\n",
              "          const docLink = document.createElement('div');\n",
              "          docLink.innerHTML = docLinkHtml;\n",
              "          element.appendChild(docLink);\n",
              "        }\n",
              "      </script>\n",
              "    </div>\n",
              "  </div>\n",
              "  "
            ]
          },
          "metadata": {},
          "execution_count": 16
        }
      ]
    },
    {
      "cell_type": "code",
      "source": [
        "rentals.Rooms.value_counts().sort_values(ascending=False).plot.bar()"
      ],
      "metadata": {
        "id": "FkhufIQvlwvR",
        "colab": {
          "base_uri": "https://localhost:8080/",
          "height": 288
        },
        "outputId": "35f19c8a-679a-4a23-c1aa-dba77f60e282"
      },
      "execution_count": 17,
      "outputs": [
        {
          "output_type": "execute_result",
          "data": {
            "text/plain": [
              "<matplotlib.axes._subplots.AxesSubplot at 0x7f8da24c3eb0>"
            ]
          },
          "metadata": {},
          "execution_count": 17
        },
        {
          "output_type": "display_data",
          "data": {
            "text/plain": [
              "<Figure size 432x288 with 1 Axes>"
            ],
            "image/png": "[encoded data removed]"
          },
          "metadata": {
            "needs_background": "light"
          }
        }
      ]
    },
    {
      "cell_type": "code",
      "source": [
        "# Most frequent number of rooms can be found from the mode\n",
        "rentals.Rooms.mode()"
      ],
      "metadata": {
        "colab": {
          "base_uri": "https://localhost:8080/"
        },
        "id": "PY0_XjkYnJXm",
        "outputId": "7f047436-2caa-492d-8634-2c66c9ceb976"
      },
      "execution_count": 18,
      "outputs": [
        {
          "output_type": "execute_result",
          "data": {
            "text/plain": [
              "0    2.0\n",
              "dtype: float64"
            ]
          },
          "metadata": {},
          "execution_count": 18
        }
      ]
    },
    {
      "cell_type": "code",
      "source": [
        "# For positive skew, the median is more apropriate\n",
        "rentals.Space.median()"
      ],
      "metadata": {
        "colab": {
          "base_uri": "https://localhost:8080/"
        },
        "id": "wc2_ww1jjzut",
        "outputId": "0d023909-e61b-4fac-fb30-c27b214f1262"
      },
      "execution_count": 19,
      "outputs": [
        {
          "output_type": "execute_result",
          "data": {
            "text/plain": [
              "77.6"
            ]
          },
          "metadata": {},
          "execution_count": 19
        }
      ]
    },
    {
      "cell_type": "markdown",
      "source": [
        "Instead of looking the raw data, we can use central tendency"
      ],
      "metadata": {
        "id": "bSJR1kmno1D5"
      }
    },
    {
      "cell_type": "code",
      "source": [
        "# Square meter over the years\n",
        "space_over_years = rentals.groupby('Year_Construction')['Space'].median().reset_index()\n",
        "space_over_years"
      ],
      "metadata": {
        "colab": {
          "base_uri": "https://localhost:8080/",
          "height": 419
        },
        "id": "GOW_F8Bnjzk1",
        "outputId": "84c5e736-b3b1-432a-840d-a5ec9a55a7cb"
      },
      "execution_count": 20,
      "outputs": [
        {
          "output_type": "execute_result",
          "data": {
            "text/plain": [
              "    Year_Construction    Space\n",
              "0                1864  106.980\n",
              "1                1867  236.000\n",
              "2                1870   99.000\n",
              "3                1873  140.130\n",
              "4                1874   50.000\n",
              "..                ...      ...\n",
              "88               2016   77.470\n",
              "89               2017   56.000\n",
              "90               2018   75.595\n",
              "91               2019   85.600\n",
              "92               2020   69.085\n",
              "\n",
              "[93 rows x 2 columns]"
            ],
            "text/html": [
              "\n",
              "  <div id=\"df-ce8809ab-d996-4bce-a1de-0245630a0936\">\n",
              "    <div class=\"colab-df-container\">\n",
              "      <div>\n",
              "<style scoped>\n",
              "    .dataframe tbody tr th:only-of-type {\n",
              "        vertical-align: middle;\n",
              "    }\n",
              "\n",
              "    .dataframe tbody tr th {\n",
              "        vertical-align: top;\n",
              "    }\n",
              "\n",
              "    .dataframe thead th {\n",
              "        text-align: right;\n",
              "    }\n",
              "</style>\n",
              "<table border=\"1\" class=\"dataframe\">\n",
              "  <thead>\n",
              "    <tr style=\"text-align: right;\">\n",
              "      <th></th>\n",
              "      <th>Year_Construction</th>\n",
              "      <th>Space</th>\n",
              "    </tr>\n",
              "  </thead>\n",
              "  <tbody>\n",
              "    <tr>\n",
              "      <th>0</th>\n",
              "      <td>1864</td>\n",
              "      <td>106.980</td>\n",
              "    </tr>\n",
              "    <tr>\n",
              "      <th>1</th>\n",
              "      <td>1867</td>\n",
              "      <td>236.000</td>\n",
              "    </tr>\n",
              "    <tr>\n",
              "      <th>2</th>\n",
              "      <td>1870</td>\n",
              "      <td>99.000</td>\n",
              "    </tr>\n",
              "    <tr>\n",
              "      <th>3</th>\n",
              "      <td>1873</td>\n",
              "      <td>140.130</td>\n",
              "    </tr>\n",
              "    <tr>\n",
              "      <th>4</th>\n",
              "      <td>1874</td>\n",
              "      <td>50.000</td>\n",
              "    </tr>\n",
              "    <tr>\n",
              "      <th>...</th>\n",
              "      <td>...</td>\n",
              "      <td>...</td>\n",
              "    </tr>\n",
              "    <tr>\n",
              "      <th>88</th>\n",
              "      <td>2016</td>\n",
              "      <td>77.470</td>\n",
              "    </tr>\n",
              "    <tr>\n",
              "      <th>89</th>\n",
              "      <td>2017</td>\n",
              "      <td>56.000</td>\n",
              "    </tr>\n",
              "    <tr>\n",
              "      <th>90</th>\n",
              "      <td>2018</td>\n",
              "      <td>75.595</td>\n",
              "    </tr>\n",
              "    <tr>\n",
              "      <th>91</th>\n",
              "      <td>2019</td>\n",
              "      <td>85.600</td>\n",
              "    </tr>\n",
              "    <tr>\n",
              "      <th>92</th>\n",
              "      <td>2020</td>\n",
              "      <td>69.085</td>\n",
              "    </tr>\n",
              "  </tbody>\n",
              "</table>\n",
              "<p>93 rows × 2 columns</p>\n",
              "</div>\n",
              "      <button class=\"colab-df-convert\" onclick=\"convertToInteractive('df-ce8809ab-d996-4bce-a1de-0245630a0936')\"\n",
              "              title=\"Convert this dataframe to an interactive table.\"\n",
              "              style=\"display:none;\">\n",
              "        \n",
              "  <svg xmlns=\"http://www.w3.org/2000/svg\" height=\"24px\"viewBox=\"0 0 24 24\"\n",
              "       width=\"24px\">\n",
              "    <path d=\"M0 0h24v24H0V0z\" fill=\"none\"/>\n",
              "    <path d=\"M18.56 5.44l.94 2.06.94-2.06 2.06-.94-2.06-.94-.94-2.06-.94 2.06-2.06.94zm-11 1L8.5 8.5l.94-2.06 2.06-.94-2.06-.94L8.5 2.5l-.94 2.06-2.06.94zm10 10l.94 2.06.94-2.06 2.06-.94-2.06-.94-.94-2.06-.94 2.06-2.06.94z\"/><path d=\"M17.41 7.96l-1.37-1.37c-.4-.4-.92-.59-1.43-.59-.52 0-1.04.2-1.43.59L10.3 9.45l-7.72 7.72c-.78.78-.78 2.05 0 2.83L4 21.41c.39.39.9.59 1.41.59.51 0 1.02-.2 1.41-.59l7.78-7.78 2.81-2.81c.8-.78.8-2.07 0-2.86zM5.41 20L4 18.59l7.72-7.72 1.47 1.35L5.41 20z\"/>\n",
              "  </svg>\n",
              "      </button>\n",
              "      \n",
              "  <style>\n",
              "    .colab-df-container {\n",
              "      display:flex;\n",
              "      flex-wrap:wrap;\n",
              "      gap: 12px;\n",
              "    }\n",
              "\n",
              "    .colab-df-convert {\n",
              "      background-color: #E8F0FE;\n",
              "      border: none;\n",
              "      border-radius: 50%;\n",
              "      cursor: pointer;\n",
              "      display: none;\n",
              "      fill: #1967D2;\n",
              "      height: 32px;\n",
              "      padding: 0 0 0 0;\n",
              "      width: 32px;\n",
              "    }\n",
              "\n",
              "    .colab-df-convert:hover {\n",
              "      background-color: #E2EBFA;\n",
              "      box-shadow: 0px 1px 2px rgba(60, 64, 67, 0.3), 0px 1px 3px 1px rgba(60, 64, 67, 0.15);\n",
              "      fill: #174EA6;\n",
              "    }\n",
              "\n",
              "    [theme=dark] .colab-df-convert {\n",
              "      background-color: #3B4455;\n",
              "      fill: #D2E3FC;\n",
              "    }\n",
              "\n",
              "    [theme=dark] .colab-df-convert:hover {\n",
              "      background-color: #434B5C;\n",
              "      box-shadow: 0px 1px 3px 1px rgba(0, 0, 0, 0.15);\n",
              "      filter: drop-shadow(0px 1px 2px rgba(0, 0, 0, 0.3));\n",
              "      fill: #FFFFFF;\n",
              "    }\n",
              "  </style>\n",
              "\n",
              "      <script>\n",
              "        const buttonEl =\n",
              "          document.querySelector('#df-ce8809ab-d996-4bce-a1de-0245630a0936 button.colab-df-convert');\n",
              "        buttonEl.style.display =\n",
              "          google.colab.kernel.accessAllowed ? 'block' : 'none';\n",
              "\n",
              "        async function convertToInteractive(key) {\n",
              "          const element = document.querySelector('#df-ce8809ab-d996-4bce-a1de-0245630a0936');\n",
              "          const dataTable =\n",
              "            await google.colab.kernel.invokeFunction('convertToInteractive',\n",
              "                                                     [key], {});\n",
              "          if (!dataTable) return;\n",
              "\n",
              "          const docLinkHtml = 'Like what you see? Visit the ' +\n",
              "            '<a target=\"_blank\" href=https://colab.research.google.com/notebooks/data_table.ipynb>data table notebook</a>'\n",
              "            + ' to learn more about interactive tables.';\n",
              "          element.innerHTML = '';\n",
              "          dataTable['output_type'] = 'display_data';\n",
              "          await google.colab.output.renderOutput(dataTable, element);\n",
              "          const docLink = document.createElement('div');\n",
              "          docLink.innerHTML = docLinkHtml;\n",
              "          element.appendChild(docLink);\n",
              "        }\n",
              "      </script>\n",
              "    </div>\n",
              "  </div>\n",
              "  "
            ]
          },
          "metadata": {},
          "execution_count": 20
        }
      ]
    },
    {
      "cell_type": "code",
      "source": [
        "space_over_years.plot.bar(x='Year_Construction', y='Space', figsize=(18,5))"
      ],
      "metadata": {
        "colab": {
          "base_uri": "https://localhost:8080/",
          "height": 367
        },
        "id": "5qFjKrgPlz_G",
        "outputId": "9e9f7355-babd-4bf6-ff78-3c6d13228a5a"
      },
      "execution_count": 21,
      "outputs": [
        {
          "output_type": "execute_result",
          "data": {
            "text/plain": [
              "<matplotlib.axes._subplots.AxesSubplot at 0x7f8da243cc40>"
            ]
          },
          "metadata": {},
          "execution_count": 21
        },
        {
          "output_type": "display_data",
          "data": {
            "text/plain": [
              "<Figure size 1296x360 with 1 Axes>"
            ],
            "image/png": "[encoded data removed]"
          },
          "metadata": {
            "needs_background": "light"
          }
        }
      ]
    },
    {
      "cell_type": "markdown",
      "source": [
        "----\n",
        "# PART 2: Measures of dispersion\n",
        "\n",
        "Everytime we use some measure of central tendency (mean, median) it is **best practice** to show some measure of dispersion. They help us understand how well the mean/median is representing the data.\n",
        "\n",
        "Commom measures of dispersion:\n",
        "* standard deviation\n",
        "* quartiles or interquartile range (IQR)\n",
        "* 95% confidence intervals"
      ],
      "metadata": {
        "id": "x9frpUFRzzF2"
      }
    },
    {
      "cell_type": "markdown",
      "source": [
        "\n",
        "\n",
        "## Standard deviation \n",
        "\n",
        "\n",
        "* The most common dispersion metric is the **standard deviation**, \n",
        "* the best tool to help us understand the dispersion in our data is the **histogram**.\n",
        "\n",
        "To calculate the **standard deviation**:\n",
        "\n",
        "\n",
        "1.   Calculate the mean\n",
        "2.   Calculate the distance of each datapoint to the mean and squared it\n",
        "3.   Sum the squared values \n",
        "4. divide the sum by the number of samples (at this point we have calculated the **variance**)\n",
        "5.   Take the squared root of the final value\n",
        "\n"
      ],
      "metadata": {
        "id": "fZxED6Ntl5oV"
      }
    },
    {
      "cell_type": "code",
      "source": [
        "# Why we square the distances in step 2? Because of an important property of the mean:\n",
        "values = [2, 3, 40, 56, 900]\n",
        "mean = np.mean(values)\n",
        "np.sum(values-mean)"
      ],
      "metadata": {
        "colab": {
          "base_uri": "https://localhost:8080/"
        },
        "id": "2PGGckQHXx-z",
        "outputId": "97b5a0c0-ba64-437a-82c9-050b8cb1b632"
      },
      "execution_count": 22,
      "outputs": [
        {
          "output_type": "execute_result",
          "data": {
            "text/plain": [
              "0.0"
            ]
          },
          "metadata": {},
          "execution_count": 22
        }
      ]
    },
    {
      "cell_type": "markdown",
      "source": [
        "Calculating the **standard deviation** of a sample:"
      ],
      "metadata": {
        "id": "o1FwJGlEZv6a"
      }
    },
    {
      "cell_type": "code",
      "source": [
        "# What is the mean height of the participants our class (in cm)?\n",
        "values = [160, 169, 165, 168, 168, 168, 173, 180, 139]\n",
        "mean = np.mean(values)\n",
        "variance = np.sum(((values-mean)**2))/len(values)\n",
        "sd = np.sqrt(variance)"
      ],
      "metadata": {
        "id": "O_S-eg5Rk_DN"
      },
      "execution_count": 23,
      "outputs": []
    },
    {
      "cell_type": "markdown",
      "source": [
        "Note: squared numbers have no unit, that is why we squared root it"
      ],
      "metadata": {
        "id": "agAxrUL8xtnz"
      }
    },
    {
      "cell_type": "code",
      "source": [
        "sd"
      ],
      "metadata": {
        "id": "sVzY2tMzn-Zn",
        "colab": {
          "base_uri": "https://localhost:8080/"
        },
        "outputId": "b9d2a713-a6ba-49f5-f234-bf7a39144e5a"
      },
      "execution_count": 24,
      "outputs": [
        {
          "output_type": "execute_result",
          "data": {
            "text/plain": [
              "10.699024993076197"
            ]
          },
          "metadata": {},
          "execution_count": 24
        }
      ]
    },
    {
      "cell_type": "code",
      "source": [
        "# Making sure we calculated right, within comparing with the numpy function\n",
        "assert np.std(values) == sd"
      ],
      "metadata": {
        "id": "xEUmjvKVntMb"
      },
      "execution_count": 25,
      "outputs": []
    },
    {
      "cell_type": "markdown",
      "source": [
        "### Interpretation of standard deviation:  \n",
        "\n",
        "when the standard deviation is high (relative to the mean), it means a lot of variability in the data.   \n",
        "It makes it way more difficult to make clear conclusions from data that is highly variable. \n",
        "\n",
        "Histograms can help a lot to understand the distribution of our values:\n",
        "\n",
        "<img src=\"https://d20khd7ddkh5ls.cloudfront.net/high_low_standard_deviation.png\" width=\"300\" />\n"
      ],
      "metadata": {
        "id": "649S6qlgqol6"
      }
    },
    {
      "cell_type": "code",
      "source": [
        "rentals.Rent.hist()"
      ],
      "metadata": {
        "id": "ZLepav6xoXUQ",
        "colab": {
          "base_uri": "https://localhost:8080/",
          "height": 282
        },
        "outputId": "8fe3cdd4-0fea-43b8-c7fa-f4763d7153b5"
      },
      "execution_count": 26,
      "outputs": [
        {
          "output_type": "execute_result",
          "data": {
            "text/plain": [
              "<matplotlib.axes._subplots.AxesSubplot at 0x7f8da2272d60>"
            ]
          },
          "metadata": {},
          "execution_count": 26
        },
        {
          "output_type": "display_data",
          "data": {
            "text/plain": [
              "<Figure size 432x288 with 1 Axes>"
            ],
            "image/png": "[encoded data removed]"
          },
          "metadata": {
            "needs_background": "light"
          }
        }
      ]
    },
    {
      "cell_type": "code",
      "source": [
        "# combining groupby() and agg() in pandas to calculate means and std deviations per groups\n",
        "def std(x): \n",
        "    return np.std(x)\n",
        "\n",
        "agg_dict = {'Rent': ['mean', std]}\n",
        "rentals.groupby('Rooms').agg(agg_dict)"
      ],
      "metadata": {
        "colab": {
          "base_uri": "https://localhost:8080/",
          "height": 452
        },
        "id": "g5MB4UqRnc_x",
        "outputId": "3ffc6ce8-a5b1-4d67-a90e-a64157cf7974"
      },
      "execution_count": 27,
      "outputs": [
        {
          "output_type": "execute_result",
          "data": {
            "text/plain": [
              "              Rent             \n",
              "              mean          std\n",
              "Rooms                          \n",
              "1.0     833.258318   299.915135\n",
              "1.5     882.735556   382.400058\n",
              "2.0    1358.017786   647.899098\n",
              "2.5    1691.043750   785.327397\n",
              "3.0    2048.237042   815.855843\n",
              "3.5    1901.928750   628.350896\n",
              "4.0    2690.214242   941.207530\n",
              "4.5    1370.000000     0.000000\n",
              "5.0    4359.084211  2991.607028\n",
              "6.0    3739.460000     0.000000\n",
              "7.0    5082.175000   794.175000"
            ],
            "text/html": [
              "\n",
              "  <div id=\"df-f46effa8-238e-4c10-9f33-fba338ed2830\">\n",
              "    <div class=\"colab-df-container\">\n",
              "      <div>\n",
              "<style scoped>\n",
              "    .dataframe tbody tr th:only-of-type {\n",
              "        vertical-align: middle;\n",
              "    }\n",
              "\n",
              "    .dataframe tbody tr th {\n",
              "        vertical-align: top;\n",
              "    }\n",
              "\n",
              "    .dataframe thead tr th {\n",
              "        text-align: left;\n",
              "    }\n",
              "\n",
              "    .dataframe thead tr:last-of-type th {\n",
              "        text-align: right;\n",
              "    }\n",
              "</style>\n",
              "<table border=\"1\" class=\"dataframe\">\n",
              "  <thead>\n",
              "    <tr>\n",
              "      <th></th>\n",
              "      <th colspan=\"2\" halign=\"left\">Rent</th>\n",
              "    </tr>\n",
              "    <tr>\n",
              "      <th></th>\n",
              "      <th>mean</th>\n",
              "      <th>std</th>\n",
              "    </tr>\n",
              "    <tr>\n",
              "      <th>Rooms</th>\n",
              "      <th></th>\n",
              "      <th></th>\n",
              "    </tr>\n",
              "  </thead>\n",
              "  <tbody>\n",
              "    <tr>\n",
              "      <th>1.0</th>\n",
              "      <td>833.258318</td>\n",
              "      <td>299.915135</td>\n",
              "    </tr>\n",
              "    <tr>\n",
              "      <th>1.5</th>\n",
              "      <td>882.735556</td>\n",
              "      <td>382.400058</td>\n",
              "    </tr>\n",
              "    <tr>\n",
              "      <th>2.0</th>\n",
              "      <td>1358.017786</td>\n",
              "      <td>647.899098</td>\n",
              "    </tr>\n",
              "    <tr>\n",
              "      <th>2.5</th>\n",
              "      <td>1691.043750</td>\n",
              "      <td>785.327397</td>\n",
              "    </tr>\n",
              "    <tr>\n",
              "      <th>3.0</th>\n",
              "      <td>2048.237042</td>\n",
              "      <td>815.855843</td>\n",
              "    </tr>\n",
              "    <tr>\n",
              "      <th>3.5</th>\n",
              "      <td>1901.928750</td>\n",
              "      <td>628.350896</td>\n",
              "    </tr>\n",
              "    <tr>\n",
              "      <th>4.0</th>\n",
              "      <td>2690.214242</td>\n",
              "      <td>941.207530</td>\n",
              "    </tr>\n",
              "    <tr>\n",
              "      <th>4.5</th>\n",
              "      <td>1370.000000</td>\n",
              "      <td>0.000000</td>\n",
              "    </tr>\n",
              "    <tr>\n",
              "      <th>5.0</th>\n",
              "      <td>4359.084211</td>\n",
              "      <td>2991.607028</td>\n",
              "    </tr>\n",
              "    <tr>\n",
              "      <th>6.0</th>\n",
              "      <td>3739.460000</td>\n",
              "      <td>0.000000</td>\n",
              "    </tr>\n",
              "    <tr>\n",
              "      <th>7.0</th>\n",
              "      <td>5082.175000</td>\n",
              "      <td>794.175000</td>\n",
              "    </tr>\n",
              "  </tbody>\n",
              "</table>\n",
              "</div>\n",
              "      <button class=\"colab-df-convert\" onclick=\"convertToInteractive('df-f46effa8-238e-4c10-9f33-fba338ed2830')\"\n",
              "              title=\"Convert this dataframe to an interactive table.\"\n",
              "              style=\"display:none;\">\n",
              "        \n",
              "  <svg xmlns=\"http://www.w3.org/2000/svg\" height=\"24px\"viewBox=\"0 0 24 24\"\n",
              "       width=\"24px\">\n",
              "    <path d=\"M0 0h24v24H0V0z\" fill=\"none\"/>\n",
              "    <path d=\"M18.56 5.44l.94 2.06.94-2.06 2.06-.94-2.06-.94-.94-2.06-.94 2.06-2.06.94zm-11 1L8.5 8.5l.94-2.06 2.06-.94-2.06-.94L8.5 2.5l-.94 2.06-2.06.94zm10 10l.94 2.06.94-2.06 2.06-.94-2.06-.94-.94-2.06-.94 2.06-2.06.94z\"/><path d=\"M17.41 7.96l-1.37-1.37c-.4-.4-.92-.59-1.43-.59-.52 0-1.04.2-1.43.59L10.3 9.45l-7.72 7.72c-.78.78-.78 2.05 0 2.83L4 21.41c.39.39.9.59 1.41.59.51 0 1.02-.2 1.41-.59l7.78-7.78 2.81-2.81c.8-.78.8-2.07 0-2.86zM5.41 20L4 18.59l7.72-7.72 1.47 1.35L5.41 20z\"/>\n",
              "  </svg>\n",
              "      </button>\n",
              "      \n",
              "  <style>\n",
              "    .colab-df-container {\n",
              "      display:flex;\n",
              "      flex-wrap:wrap;\n",
              "      gap: 12px;\n",
              "    }\n",
              "\n",
              "    .colab-df-convert {\n",
              "      background-color: #E8F0FE;\n",
              "      border: none;\n",
              "      border-radius: 50%;\n",
              "      cursor: pointer;\n",
              "      display: none;\n",
              "      fill: #1967D2;\n",
              "      height: 32px;\n",
              "      padding: 0 0 0 0;\n",
              "      width: 32px;\n",
              "    }\n",
              "\n",
              "    .colab-df-convert:hover {\n",
              "      background-color: #E2EBFA;\n",
              "      box-shadow: 0px 1px 2px rgba(60, 64, 67, 0.3), 0px 1px 3px 1px rgba(60, 64, 67, 0.15);\n",
              "      fill: #174EA6;\n",
              "    }\n",
              "\n",
              "    [theme=dark] .colab-df-convert {\n",
              "      background-color: #3B4455;\n",
              "      fill: #D2E3FC;\n",
              "    }\n",
              "\n",
              "    [theme=dark] .colab-df-convert:hover {\n",
              "      background-color: #434B5C;\n",
              "      box-shadow: 0px 1px 3px 1px rgba(0, 0, 0, 0.15);\n",
              "      filter: drop-shadow(0px 1px 2px rgba(0, 0, 0, 0.3));\n",
              "      fill: #FFFFFF;\n",
              "    }\n",
              "  </style>\n",
              "\n",
              "      <script>\n",
              "        const buttonEl =\n",
              "          document.querySelector('#df-f46effa8-238e-4c10-9f33-fba338ed2830 button.colab-df-convert');\n",
              "        buttonEl.style.display =\n",
              "          google.colab.kernel.accessAllowed ? 'block' : 'none';\n",
              "\n",
              "        async function convertToInteractive(key) {\n",
              "          const element = document.querySelector('#df-f46effa8-238e-4c10-9f33-fba338ed2830');\n",
              "          const dataTable =\n",
              "            await google.colab.kernel.invokeFunction('convertToInteractive',\n",
              "                                                     [key], {});\n",
              "          if (!dataTable) return;\n",
              "\n",
              "          const docLinkHtml = 'Like what you see? Visit the ' +\n",
              "            '<a target=\"_blank\" href=https://colab.research.google.com/notebooks/data_table.ipynb>data table notebook</a>'\n",
              "            + ' to learn more about interactive tables.';\n",
              "          element.innerHTML = '';\n",
              "          dataTable['output_type'] = 'display_data';\n",
              "          await google.colab.output.renderOutput(dataTable, element);\n",
              "          const docLink = document.createElement('div');\n",
              "          docLink.innerHTML = docLinkHtml;\n",
              "          element.appendChild(docLink);\n",
              "        }\n",
              "      </script>\n",
              "    </div>\n",
              "  </div>\n",
              "  "
            ]
          },
          "metadata": {},
          "execution_count": 27
        }
      ]
    },
    {
      "cell_type": "code",
      "source": [
        "# let's visualize the mean and standard deviation in a single plot\n",
        "ax = sns.barplot(\n",
        "    x='Rooms',\n",
        "    y='Rent',\n",
        "    data=rentals,\n",
        "    estimator=np.std\n",
        ")\n",
        "ax.set_xlabel('Number of rooms', fontsize=10)\n",
        "ax.set_ylabel('Rent (Euros)', fontsize=10)\n",
        "ax.set_title('Meand and s.d. of rent prices, according to the number of rooms', fontsize=15)"
      ],
      "metadata": {
        "colab": {
          "base_uri": "https://localhost:8080/",
          "height": 314
        },
        "id": "vz_NTMn65DHP",
        "outputId": "68f4817d-0429-4f20-d9fd-80886fb46a73"
      },
      "execution_count": 28,
      "outputs": [
        {
          "output_type": "execute_result",
          "data": {
            "text/plain": [
              "Text(0.5, 1.0, 'Meand and s.d. of rent prices, according to the number of rooms')"
            ]
          },
          "metadata": {},
          "execution_count": 28
        },
        {
          "output_type": "display_data",
          "data": {
            "text/plain": [
              "<Figure size 432x288 with 1 Axes>"
            ],
            "image/png": "[encoded data removed]"
          },
          "metadata": {
            "needs_background": "light"
          }
        }
      ]
    },
    {
      "cell_type": "markdown",
      "source": [
        "## **Quantiles and percentiles**  \n",
        "\n",
        "They tell us how many samples (datapoints) we can expect in a specific range. There's a nice blog post about it [here](https://medium.com/@vinitasilaparasetty/quartiles-for-beginners-in-data-science-cad074cf5d65)  \n",
        "\n",
        "**Quartiles** are 3 values that divide the datapoints into 4 portions (the 25%, 50%, 75%, 100%)\n",
        "\n",
        "\n",
        "Imagine we have a class with 11 students and they take a test. The image below shows the scores of each student in a test, sorted in ascending order (2 students had 2 points, one student had 4 points and so on). Interpretation:  \n",
        "\n",
        "* The **first quartile** is 4, which means that 25% of the students had a score of up to 4 points.  \n",
        "* The **second quartile** is 5, which means that 50% of the students had a score of up to 5 points.  \n",
        "* The **third quartile** is 9, which means that 75% of the students had a score of up to 9 points.   \n",
        "\n",
        "<img src=\"https://cdn.scribbr.com/wp-content/uploads/2022/05/Quartile-example.webp\" width=\"500\" />\n",
        "\n",
        "**Percentiles** are any fraction of the data we might be interested (from 0 to 1)"
      ],
      "metadata": {
        "id": "7vIL6qMrsYBX"
      }
    },
    {
      "cell_type": "code",
      "source": [
        "# 25% of the lowest rents\n",
        "rentals.Rent.quantile(0.25)"
      ],
      "metadata": {
        "colab": {
          "base_uri": "https://localhost:8080/"
        },
        "id": "Ng1fWjeztdas",
        "outputId": "c7dd8416-2d37-4089-9be9-86b6805e02cb"
      },
      "execution_count": 29,
      "outputs": [
        {
          "output_type": "execute_result",
          "data": {
            "text/plain": [
              "1039.5"
            ]
          },
          "metadata": {},
          "execution_count": 29
        }
      ]
    },
    {
      "cell_type": "code",
      "source": [
        "# the top 25% most expensive apartments cost at least 2170 Euros\n",
        "rentals.Rent.quantile(0.75)"
      ],
      "metadata": {
        "colab": {
          "base_uri": "https://localhost:8080/"
        },
        "id": "i89ViNOgQIZT",
        "outputId": "00194a54-d824-4432-c5a3-8828cc4d4f9d"
      },
      "execution_count": 30,
      "outputs": [
        {
          "output_type": "execute_result",
          "data": {
            "text/plain": [
              "2170.0"
            ]
          },
          "metadata": {},
          "execution_count": 30
        }
      ]
    },
    {
      "cell_type": "code",
      "source": [
        "# median\n",
        "rentals.Rent.quantile(0.5), rentals.Rent.median()"
      ],
      "metadata": {
        "colab": {
          "base_uri": "https://localhost:8080/"
        },
        "id": "qkddnL1vtyaH",
        "outputId": "5a3a376f-3992-472d-ac8b-b5fa9c27365c"
      },
      "execution_count": 31,
      "outputs": [
        {
          "output_type": "execute_result",
          "data": {
            "text/plain": [
              "(1565.48, 1565.48)"
            ]
          },
          "metadata": {},
          "execution_count": 31
        }
      ]
    },
    {
      "cell_type": "code",
      "source": [
        "# 10% of cheapest apartments cost up to 719.7 Euros\n",
        "rentals.Rent.quantile(0.1)"
      ],
      "metadata": {
        "colab": {
          "base_uri": "https://localhost:8080/"
        },
        "id": "yo0nrvMwtzmv",
        "outputId": "6fe35596-2ed4-4e36-eaca-393f1b095063"
      },
      "execution_count": 32,
      "outputs": [
        {
          "output_type": "execute_result",
          "data": {
            "text/plain": [
              "719.692"
            ]
          },
          "metadata": {},
          "execution_count": 32
        }
      ]
    },
    {
      "cell_type": "code",
      "source": [
        "# the top 10% most expensive apartments cost at least 2811 Euros\n",
        "rentals.Rent.quantile(0.9)"
      ],
      "metadata": {
        "colab": {
          "base_uri": "https://localhost:8080/"
        },
        "id": "xA1YgVml6RuE",
        "outputId": "36e71fc8-d723-4128-ef16-87f94b66e659"
      },
      "execution_count": 33,
      "outputs": [
        {
          "output_type": "execute_result",
          "data": {
            "text/plain": [
              "2811.814"
            ]
          },
          "metadata": {},
          "execution_count": 33
        }
      ]
    },
    {
      "cell_type": "code",
      "source": [
        "# you can choose any percentile from 0 to 1\n",
        "rentals.Rent.quantile(0.18)"
      ],
      "metadata": {
        "id": "BmagcL9zrsoP",
        "colab": {
          "base_uri": "https://localhost:8080/"
        },
        "outputId": "b6d49db7-a7e7-48a1-92d4-e299bf2c6dba"
      },
      "execution_count": 34,
      "outputs": [
        {
          "output_type": "execute_result",
          "data": {
            "text/plain": [
              "900.0"
            ]
          },
          "metadata": {},
          "execution_count": 34
        }
      ]
    },
    {
      "cell_type": "code",
      "source": [
        "# most expensive appartment\n",
        "rentals.Rent.quantile(1), rentals.Rent.max()"
      ],
      "metadata": {
        "colab": {
          "base_uri": "https://localhost:8080/"
        },
        "id": "2F8fVDBuSBFr",
        "outputId": "f90aebae-ed88-4413-cca6-29e1e7cfcc2e"
      },
      "execution_count": 35,
      "outputs": [
        {
          "output_type": "execute_result",
          "data": {
            "text/plain": [
              "(14207.0, 14207.0)"
            ]
          },
          "metadata": {},
          "execution_count": 35
        }
      ]
    },
    {
      "cell_type": "markdown",
      "source": [
        "### Interquartile range\n",
        "\n",
        "IQR is also a measure of dispersion, and is the range between the first and the third quartiles namely Q1 and Q3:  \n",
        "\n",
        "**IQR = Q3 – Q1**\n",
        "\n",
        "We know that 50% of all datapoints fall within the range between Q1 and Q3"
      ],
      "metadata": {
        "id": "reBC6WTs_s3y"
      }
    },
    {
      "cell_type": "code",
      "source": [
        "# what is the IQR of the age of apartments in Berlin?\n",
        "median = rentals.Year_Construction.quantile(0.5)\n",
        "\n",
        "q1= rentals.Year_Construction.quantile(0.25)\n",
        "q3= rentals.Year_Construction.quantile(0.75)\n",
        "\n",
        "print(\"Q1 and Q3 are\", q1, q3)\n",
        "print(f\"The median is {median} and IQR of age is {q3-q1}\")"
      ],
      "metadata": {
        "colab": {
          "base_uri": "https://localhost:8080/"
        },
        "id": "gRZfyWHxADm9",
        "outputId": "8d08cd9a-f702-41a8-d140-57258c2c92eb"
      },
      "execution_count": 36,
      "outputs": [
        {
          "output_type": "stream",
          "name": "stdout",
          "text": [
            "Q1 and Q3 are 1959.0 2019.0\n",
            "The median is 2015.0 and IQR of age is 60.0\n"
          ]
        }
      ]
    },
    {
      "cell_type": "markdown",
      "source": [
        "## Confidence intervals\n",
        "\n",
        "Confidence intervals are a tool to help **generalize** our findings to a bigger sample, which we did not/ cannot measure ourselves. \n",
        "\n",
        "*Example*: we can measure the height of all students in this class, but we cannot obtain the heights of all human beings alive. But after having a sample of some individuals, we might want to generalize the findings to the entire country population."
      ],
      "metadata": {
        "id": "hV4ZTkeovrZe"
      }
    },
    {
      "cell_type": "code",
      "source": [
        "# Example of usage in Python:\n",
        "data = [160, 160, 166, 173, 155, 176, 156]\n",
        "\n",
        "#create 95% confidence interval for the sample above\n",
        "stats.t.interval(alpha=0.95, df=len(data)-1, loc=np.mean(data), scale=np.std(data)) \n"
      ],
      "metadata": {
        "id": "7sOJMJfGv4kx",
        "colab": {
          "base_uri": "https://localhost:8080/"
        },
        "outputId": "66ed7df9-8c2b-49cb-bd70-42741c0655ea"
      },
      "execution_count": 37,
      "outputs": [
        {
          "output_type": "execute_result",
          "data": {
            "text/plain": [
              "(145.09227897398267, 182.33629245458877)"
            ]
          },
          "metadata": {},
          "execution_count": 37
        }
      ]
    },
    {
      "cell_type": "code",
      "source": [
        "np.mean(data).round(2)"
      ],
      "metadata": {
        "colab": {
          "base_uri": "https://localhost:8080/"
        },
        "id": "hl_B_HCTWbKm",
        "outputId": "92ca07d8-aef0-44a8-d48b-3e462a287ff3"
      },
      "execution_count": 38,
      "outputs": [
        {
          "output_type": "execute_result",
          "data": {
            "text/plain": [
              "163.71"
            ]
          },
          "metadata": {},
          "execution_count": 38
        }
      ]
    },
    {
      "cell_type": "markdown",
      "source": [
        "**Interpretation: while the mean of the data is about 163.71, we know that when we generalize to the whole population, we can estimate that 95% of the time the data range will be between 145 - 182**"
      ],
      "metadata": {
        "id": "clRHY8bgWnmw"
      }
    },
    {
      "cell_type": "markdown",
      "source": [
        "Can you calculate the mean rent per region of Berlin, and add the standard deviation and 95% confidence interval for each mean?"
      ],
      "metadata": {
        "id": "OGixEUAHX89M"
      }
    },
    {
      "cell_type": "code",
      "source": [
        "rentals.head(2)"
      ],
      "metadata": {
        "colab": {
          "base_uri": "https://localhost:8080/",
          "height": 111
        },
        "id": "WIIBPPnoX8Px",
        "outputId": "bd660bcb-1efa-44ec-dcaa-9918526a49ce"
      },
      "execution_count": 39,
      "outputs": [
        {
          "output_type": "execute_result",
          "data": {
            "text/plain": [
              "      Region       Condition  Rooms    Rent  Year_Construction   Space\n",
              "0      Mitte  first_time_use    4.0  2659.0               2019  117.20\n",
              "1  Kreuzberg  first_time_use    1.0  1200.0               2020   29.33"
            ],
            "text/html": [
              "\n",
              "  <div id=\"df-20c4852e-d29c-4ace-b160-befb970f28d1\">\n",
              "    <div class=\"colab-df-container\">\n",
              "      <div>\n",
              "<style scoped>\n",
              "    .dataframe tbody tr th:only-of-type {\n",
              "        vertical-align: middle;\n",
              "    }\n",
              "\n",
              "    .dataframe tbody tr th {\n",
              "        vertical-align: top;\n",
              "    }\n",
              "\n",
              "    .dataframe thead th {\n",
              "        text-align: right;\n",
              "    }\n",
              "</style>\n",
              "<table border=\"1\" class=\"dataframe\">\n",
              "  <thead>\n",
              "    <tr style=\"text-align: right;\">\n",
              "      <th></th>\n",
              "      <th>Region</th>\n",
              "      <th>Condition</th>\n",
              "      <th>Rooms</th>\n",
              "      <th>Rent</th>\n",
              "      <th>Year_Construction</th>\n",
              "      <th>Space</th>\n",
              "    </tr>\n",
              "  </thead>\n",
              "  <tbody>\n",
              "    <tr>\n",
              "      <th>0</th>\n",
              "      <td>Mitte</td>\n",
              "      <td>first_time_use</td>\n",
              "      <td>4.0</td>\n",
              "      <td>2659.0</td>\n",
              "      <td>2019</td>\n",
              "      <td>117.20</td>\n",
              "    </tr>\n",
              "    <tr>\n",
              "      <th>1</th>\n",
              "      <td>Kreuzberg</td>\n",
              "      <td>first_time_use</td>\n",
              "      <td>1.0</td>\n",
              "      <td>1200.0</td>\n",
              "      <td>2020</td>\n",
              "      <td>29.33</td>\n",
              "    </tr>\n",
              "  </tbody>\n",
              "</table>\n",
              "</div>\n",
              "      <button class=\"colab-df-convert\" onclick=\"convertToInteractive('df-20c4852e-d29c-4ace-b160-befb970f28d1')\"\n",
              "              title=\"Convert this dataframe to an interactive table.\"\n",
              "              style=\"display:none;\">\n",
              "        \n",
              "  <svg xmlns=\"http://www.w3.org/2000/svg\" height=\"24px\"viewBox=\"0 0 24 24\"\n",
              "       width=\"24px\">\n",
              "    <path d=\"M0 0h24v24H0V0z\" fill=\"none\"/>\n",
              "    <path d=\"M18.56 5.44l.94 2.06.94-2.06 2.06-.94-2.06-.94-.94-2.06-.94 2.06-2.06.94zm-11 1L8.5 8.5l.94-2.06 2.06-.94-2.06-.94L8.5 2.5l-.94 2.06-2.06.94zm10 10l.94 2.06.94-2.06 2.06-.94-2.06-.94-.94-2.06-.94 2.06-2.06.94z\"/><path d=\"M17.41 7.96l-1.37-1.37c-.4-.4-.92-.59-1.43-.59-.52 0-1.04.2-1.43.59L10.3 9.45l-7.72 7.72c-.78.78-.78 2.05 0 2.83L4 21.41c.39.39.9.59 1.41.59.51 0 1.02-.2 1.41-.59l7.78-7.78 2.81-2.81c.8-.78.8-2.07 0-2.86zM5.41 20L4 18.59l7.72-7.72 1.47 1.35L5.41 20z\"/>\n",
              "  </svg>\n",
              "      </button>\n",
              "      \n",
              "  <style>\n",
              "    .colab-df-container {\n",
              "      display:flex;\n",
              "      flex-wrap:wrap;\n",
              "      gap: 12px;\n",
              "    }\n",
              "\n",
              "    .colab-df-convert {\n",
              "      background-color: #E8F0FE;\n",
              "      border: none;\n",
              "      border-radius: 50%;\n",
              "      cursor: pointer;\n",
              "      display: none;\n",
              "      fill: #1967D2;\n",
              "      height: 32px;\n",
              "      padding: 0 0 0 0;\n",
              "      width: 32px;\n",
              "    }\n",
              "\n",
              "    .colab-df-convert:hover {\n",
              "      background-color: #E2EBFA;\n",
              "      box-shadow: 0px 1px 2px rgba(60, 64, 67, 0.3), 0px 1px 3px 1px rgba(60, 64, 67, 0.15);\n",
              "      fill: #174EA6;\n",
              "    }\n",
              "\n",
              "    [theme=dark] .colab-df-convert {\n",
              "      background-color: #3B4455;\n",
              "      fill: #D2E3FC;\n",
              "    }\n",
              "\n",
              "    [theme=dark] .colab-df-convert:hover {\n",
              "      background-color: #434B5C;\n",
              "      box-shadow: 0px 1px 3px 1px rgba(0, 0, 0, 0.15);\n",
              "      filter: drop-shadow(0px 1px 2px rgba(0, 0, 0, 0.3));\n",
              "      fill: #FFFFFF;\n",
              "    }\n",
              "  </style>\n",
              "\n",
              "      <script>\n",
              "        const buttonEl =\n",
              "          document.querySelector('#df-20c4852e-d29c-4ace-b160-befb970f28d1 button.colab-df-convert');\n",
              "        buttonEl.style.display =\n",
              "          google.colab.kernel.accessAllowed ? 'block' : 'none';\n",
              "\n",
              "        async function convertToInteractive(key) {\n",
              "          const element = document.querySelector('#df-20c4852e-d29c-4ace-b160-befb970f28d1');\n",
              "          const dataTable =\n",
              "            await google.colab.kernel.invokeFunction('convertToInteractive',\n",
              "                                                     [key], {});\n",
              "          if (!dataTable) return;\n",
              "\n",
              "          const docLinkHtml = 'Like what you see? Visit the ' +\n",
              "            '<a target=\"_blank\" href=https://colab.research.google.com/notebooks/data_table.ipynb>data table notebook</a>'\n",
              "            + ' to learn more about interactive tables.';\n",
              "          element.innerHTML = '';\n",
              "          dataTable['output_type'] = 'display_data';\n",
              "          await google.colab.output.renderOutput(dataTable, element);\n",
              "          const docLink = document.createElement('div');\n",
              "          docLink.innerHTML = docLinkHtml;\n",
              "          element.appendChild(docLink);\n",
              "        }\n",
              "      </script>\n",
              "    </div>\n",
              "  </div>\n",
              "  "
            ]
          },
          "metadata": {},
          "execution_count": 39
        }
      ]
    },
    {
      "cell_type": "code",
      "source": [
        "# Mean rent and standard deviation per region of Berlin\n",
        "mean_std = rentals.groupby('Region')['Rent'].agg(['mean', 'std'])\n",
        "mean_std"
      ],
      "metadata": {
        "colab": {
          "base_uri": "https://localhost:8080/",
          "height": 390
        },
        "id": "nZD7s5bHXe5z",
        "outputId": "9d65bc46-1926-4e11-a7bf-92698bf329f6"
      },
      "execution_count": 40,
      "outputs": [
        {
          "output_type": "execute_result",
          "data": {
            "text/plain": [
              "                        mean          std\n",
              "Region                                   \n",
              "Charlottenburg   1753.452532  1125.786523\n",
              "Friedrichsfelde  1043.871731   403.402469\n",
              "Kreuzberg        2049.138085  1172.802355\n",
              "Köpenick         1125.475818   390.822563\n",
              "Mitte            2408.725033  1543.059190\n",
              "Neukölln         1188.114915   552.145415\n",
              "Prenzlauer       1996.962264  1088.544439\n",
              "Tiergarten       1914.824795   786.464690\n",
              "Wedding           847.138571   333.446416\n",
              "Wilmersdorf      1748.646226   941.443278"
            ],
            "text/html": [
              "\n",
              "  <div id=\"df-53e13bbf-6c46-439e-8bd6-9646739bd0d8\">\n",
              "    <div class=\"colab-df-container\">\n",
              "      <div>\n",
              "<style scoped>\n",
              "    .dataframe tbody tr th:only-of-type {\n",
              "        vertical-align: middle;\n",
              "    }\n",
              "\n",
              "    .dataframe tbody tr th {\n",
              "        vertical-align: top;\n",
              "    }\n",
              "\n",
              "    .dataframe thead th {\n",
              "        text-align: right;\n",
              "    }\n",
              "</style>\n",
              "<table border=\"1\" class=\"dataframe\">\n",
              "  <thead>\n",
              "    <tr style=\"text-align: right;\">\n",
              "      <th></th>\n",
              "      <th>mean</th>\n",
              "      <th>std</th>\n",
              "    </tr>\n",
              "    <tr>\n",
              "      <th>Region</th>\n",
              "      <th></th>\n",
              "      <th></th>\n",
              "    </tr>\n",
              "  </thead>\n",
              "  <tbody>\n",
              "    <tr>\n",
              "      <th>Charlottenburg</th>\n",
              "      <td>1753.452532</td>\n",
              "      <td>1125.786523</td>\n",
              "    </tr>\n",
              "    <tr>\n",
              "      <th>Friedrichsfelde</th>\n",
              "      <td>1043.871731</td>\n",
              "      <td>403.402469</td>\n",
              "    </tr>\n",
              "    <tr>\n",
              "      <th>Kreuzberg</th>\n",
              "      <td>2049.138085</td>\n",
              "      <td>1172.802355</td>\n",
              "    </tr>\n",
              "    <tr>\n",
              "      <th>Köpenick</th>\n",
              "      <td>1125.475818</td>\n",
              "      <td>390.822563</td>\n",
              "    </tr>\n",
              "    <tr>\n",
              "      <th>Mitte</th>\n",
              "      <td>2408.725033</td>\n",
              "      <td>1543.059190</td>\n",
              "    </tr>\n",
              "    <tr>\n",
              "      <th>Neukölln</th>\n",
              "      <td>1188.114915</td>\n",
              "      <td>552.145415</td>\n",
              "    </tr>\n",
              "    <tr>\n",
              "      <th>Prenzlauer</th>\n",
              "      <td>1996.962264</td>\n",
              "      <td>1088.544439</td>\n",
              "    </tr>\n",
              "    <tr>\n",
              "      <th>Tiergarten</th>\n",
              "      <td>1914.824795</td>\n",
              "      <td>786.464690</td>\n",
              "    </tr>\n",
              "    <tr>\n",
              "      <th>Wedding</th>\n",
              "      <td>847.138571</td>\n",
              "      <td>333.446416</td>\n",
              "    </tr>\n",
              "    <tr>\n",
              "      <th>Wilmersdorf</th>\n",
              "      <td>1748.646226</td>\n",
              "      <td>941.443278</td>\n",
              "    </tr>\n",
              "  </tbody>\n",
              "</table>\n",
              "</div>\n",
              "      <button class=\"colab-df-convert\" onclick=\"convertToInteractive('df-53e13bbf-6c46-439e-8bd6-9646739bd0d8')\"\n",
              "              title=\"Convert this dataframe to an interactive table.\"\n",
              "              style=\"display:none;\">\n",
              "        \n",
              "  <svg xmlns=\"http://www.w3.org/2000/svg\" height=\"24px\"viewBox=\"0 0 24 24\"\n",
              "       width=\"24px\">\n",
              "    <path d=\"M0 0h24v24H0V0z\" fill=\"none\"/>\n",
              "    <path d=\"M18.56 5.44l.94 2.06.94-2.06 2.06-.94-2.06-.94-.94-2.06-.94 2.06-2.06.94zm-11 1L8.5 8.5l.94-2.06 2.06-.94-2.06-.94L8.5 2.5l-.94 2.06-2.06.94zm10 10l.94 2.06.94-2.06 2.06-.94-2.06-.94-.94-2.06-.94 2.06-2.06.94z\"/><path d=\"M17.41 7.96l-1.37-1.37c-.4-.4-.92-.59-1.43-.59-.52 0-1.04.2-1.43.59L10.3 9.45l-7.72 7.72c-.78.78-.78 2.05 0 2.83L4 21.41c.39.39.9.59 1.41.59.51 0 1.02-.2 1.41-.59l7.78-7.78 2.81-2.81c.8-.78.8-2.07 0-2.86zM5.41 20L4 18.59l7.72-7.72 1.47 1.35L5.41 20z\"/>\n",
              "  </svg>\n",
              "      </button>\n",
              "      \n",
              "  <style>\n",
              "    .colab-df-container {\n",
              "      display:flex;\n",
              "      flex-wrap:wrap;\n",
              "      gap: 12px;\n",
              "    }\n",
              "\n",
              "    .colab-df-convert {\n",
              "      background-color: #E8F0FE;\n",
              "      border: none;\n",
              "      border-radius: 50%;\n",
              "      cursor: pointer;\n",
              "      display: none;\n",
              "      fill: #1967D2;\n",
              "      height: 32px;\n",
              "      padding: 0 0 0 0;\n",
              "      width: 32px;\n",
              "    }\n",
              "\n",
              "    .colab-df-convert:hover {\n",
              "      background-color: #E2EBFA;\n",
              "      box-shadow: 0px 1px 2px rgba(60, 64, 67, 0.3), 0px 1px 3px 1px rgba(60, 64, 67, 0.15);\n",
              "      fill: #174EA6;\n",
              "    }\n",
              "\n",
              "    [theme=dark] .colab-df-convert {\n",
              "      background-color: #3B4455;\n",
              "      fill: #D2E3FC;\n",
              "    }\n",
              "\n",
              "    [theme=dark] .colab-df-convert:hover {\n",
              "      background-color: #434B5C;\n",
              "      box-shadow: 0px 1px 3px 1px rgba(0, 0, 0, 0.15);\n",
              "      filter: drop-shadow(0px 1px 2px rgba(0, 0, 0, 0.3));\n",
              "      fill: #FFFFFF;\n",
              "    }\n",
              "  </style>\n",
              "\n",
              "      <script>\n",
              "        const buttonEl =\n",
              "          document.querySelector('#df-53e13bbf-6c46-439e-8bd6-9646739bd0d8 button.colab-df-convert');\n",
              "        buttonEl.style.display =\n",
              "          google.colab.kernel.accessAllowed ? 'block' : 'none';\n",
              "\n",
              "        async function convertToInteractive(key) {\n",
              "          const element = document.querySelector('#df-53e13bbf-6c46-439e-8bd6-9646739bd0d8');\n",
              "          const dataTable =\n",
              "            await google.colab.kernel.invokeFunction('convertToInteractive',\n",
              "                                                     [key], {});\n",
              "          if (!dataTable) return;\n",
              "\n",
              "          const docLinkHtml = 'Like what you see? Visit the ' +\n",
              "            '<a target=\"_blank\" href=https://colab.research.google.com/notebooks/data_table.ipynb>data table notebook</a>'\n",
              "            + ' to learn more about interactive tables.';\n",
              "          element.innerHTML = '';\n",
              "          dataTable['output_type'] = 'display_data';\n",
              "          await google.colab.output.renderOutput(dataTable, element);\n",
              "          const docLink = document.createElement('div');\n",
              "          docLink.innerHTML = docLinkHtml;\n",
              "          element.appendChild(docLink);\n",
              "        }\n",
              "      </script>\n",
              "    </div>\n",
              "  </div>\n",
              "  "
            ]
          },
          "metadata": {},
          "execution_count": 40
        }
      ]
    },
    {
      "cell_type": "code",
      "source": [
        "# Confidence Interval\n",
        "CI = mean_std.apply(lambda x: stats.t.interval(0.95, len(x)-1, loc=np.mean(x), scale=np.std(x)), axis=1).to_frame(name='CI')\n",
        "CI"
      ],
      "metadata": {
        "colab": {
          "base_uri": "https://localhost:8080/",
          "height": 390
        },
        "id": "1CgFzbFzZs-2",
        "outputId": "e2654313-5132-49d7-d663-270b2bb5da6a"
      },
      "execution_count": 41,
      "outputs": [
        {
          "output_type": "execute_result",
          "data": {
            "text/plain": [
              "                                                        CI\n",
              "Region                                                    \n",
              "Charlottenburg    (-2548.0068758910706, 5427.245930939527)\n",
              "Friedrichsfelde   (-3345.3296862653624, 4792.603885679383)\n",
              "Kreuzberg          (-3956.480383163768, 7178.420823135066)\n",
              "Köpenick          (-3909.1781468258587, 5425.476527700731)\n",
              "Mitte              (-3523.7716065778877, 7475.55582886286)\n",
              "Neukölln           (-3170.249172906346, 4910.509503181728)\n",
              "Prenzlauer          (-4228.51808392877, 7314.024787195265)\n",
              "Tiergarten         (-5817.942516406152, 8519.232001472785)\n",
              "Wedding          (-2673.2463548109818, 3853.8313423361515)\n",
              "Wilmersdorf       (-3783.1982102089078, 6473.287714739345)"
            ],
            "text/html": [
              "\n",
              "  <div id=\"df-599be2ce-c9cb-4744-b91f-ed9e29143723\">\n",
              "    <div class=\"colab-df-container\">\n",
              "      <div>\n",
              "<style scoped>\n",
              "    .dataframe tbody tr th:only-of-type {\n",
              "        vertical-align: middle;\n",
              "    }\n",
              "\n",
              "    .dataframe tbody tr th {\n",
              "        vertical-align: top;\n",
              "    }\n",
              "\n",
              "    .dataframe thead th {\n",
              "        text-align: right;\n",
              "    }\n",
              "</style>\n",
              "<table border=\"1\" class=\"dataframe\">\n",
              "  <thead>\n",
              "    <tr style=\"text-align: right;\">\n",
              "      <th></th>\n",
              "      <th>CI</th>\n",
              "    </tr>\n",
              "    <tr>\n",
              "      <th>Region</th>\n",
              "      <th></th>\n",
              "    </tr>\n",
              "  </thead>\n",
              "  <tbody>\n",
              "    <tr>\n",
              "      <th>Charlottenburg</th>\n",
              "      <td>(-2548.0068758910706, 5427.245930939527)</td>\n",
              "    </tr>\n",
              "    <tr>\n",
              "      <th>Friedrichsfelde</th>\n",
              "      <td>(-3345.3296862653624, 4792.603885679383)</td>\n",
              "    </tr>\n",
              "    <tr>\n",
              "      <th>Kreuzberg</th>\n",
              "      <td>(-3956.480383163768, 7178.420823135066)</td>\n",
              "    </tr>\n",
              "    <tr>\n",
              "      <th>Köpenick</th>\n",
              "      <td>(-3909.1781468258587, 5425.476527700731)</td>\n",
              "    </tr>\n",
              "    <tr>\n",
              "      <th>Mitte</th>\n",
              "      <td>(-3523.7716065778877, 7475.55582886286)</td>\n",
              "    </tr>\n",
              "    <tr>\n",
              "      <th>Neukölln</th>\n",
              "      <td>(-3170.249172906346, 4910.509503181728)</td>\n",
              "    </tr>\n",
              "    <tr>\n",
              "      <th>Prenzlauer</th>\n",
              "      <td>(-4228.51808392877, 7314.024787195265)</td>\n",
              "    </tr>\n",
              "    <tr>\n",
              "      <th>Tiergarten</th>\n",
              "      <td>(-5817.942516406152, 8519.232001472785)</td>\n",
              "    </tr>\n",
              "    <tr>\n",
              "      <th>Wedding</th>\n",
              "      <td>(-2673.2463548109818, 3853.8313423361515)</td>\n",
              "    </tr>\n",
              "    <tr>\n",
              "      <th>Wilmersdorf</th>\n",
              "      <td>(-3783.1982102089078, 6473.287714739345)</td>\n",
              "    </tr>\n",
              "  </tbody>\n",
              "</table>\n",
              "</div>\n",
              "      <button class=\"colab-df-convert\" onclick=\"convertToInteractive('df-599be2ce-c9cb-4744-b91f-ed9e29143723')\"\n",
              "              title=\"Convert this dataframe to an interactive table.\"\n",
              "              style=\"display:none;\">\n",
              "        \n",
              "  <svg xmlns=\"http://www.w3.org/2000/svg\" height=\"24px\"viewBox=\"0 0 24 24\"\n",
              "       width=\"24px\">\n",
              "    <path d=\"M0 0h24v24H0V0z\" fill=\"none\"/>\n",
              "    <path d=\"M18.56 5.44l.94 2.06.94-2.06 2.06-.94-2.06-.94-.94-2.06-.94 2.06-2.06.94zm-11 1L8.5 8.5l.94-2.06 2.06-.94-2.06-.94L8.5 2.5l-.94 2.06-2.06.94zm10 10l.94 2.06.94-2.06 2.06-.94-2.06-.94-.94-2.06-.94 2.06-2.06.94z\"/><path d=\"M17.41 7.96l-1.37-1.37c-.4-.4-.92-.59-1.43-.59-.52 0-1.04.2-1.43.59L10.3 9.45l-7.72 7.72c-.78.78-.78 2.05 0 2.83L4 21.41c.39.39.9.59 1.41.59.51 0 1.02-.2 1.41-.59l7.78-7.78 2.81-2.81c.8-.78.8-2.07 0-2.86zM5.41 20L4 18.59l7.72-7.72 1.47 1.35L5.41 20z\"/>\n",
              "  </svg>\n",
              "      </button>\n",
              "      \n",
              "  <style>\n",
              "    .colab-df-container {\n",
              "      display:flex;\n",
              "      flex-wrap:wrap;\n",
              "      gap: 12px;\n",
              "    }\n",
              "\n",
              "    .colab-df-convert {\n",
              "      background-color: #E8F0FE;\n",
              "      border: none;\n",
              "      border-radius: 50%;\n",
              "      cursor: pointer;\n",
              "      display: none;\n",
              "      fill: #1967D2;\n",
              "      height: 32px;\n",
              "      padding: 0 0 0 0;\n",
              "      width: 32px;\n",
              "    }\n",
              "\n",
              "    .colab-df-convert:hover {\n",
              "      background-color: #E2EBFA;\n",
              "      box-shadow: 0px 1px 2px rgba(60, 64, 67, 0.3), 0px 1px 3px 1px rgba(60, 64, 67, 0.15);\n",
              "      fill: #174EA6;\n",
              "    }\n",
              "\n",
              "    [theme=dark] .colab-df-convert {\n",
              "      background-color: #3B4455;\n",
              "      fill: #D2E3FC;\n",
              "    }\n",
              "\n",
              "    [theme=dark] .colab-df-convert:hover {\n",
              "      background-color: #434B5C;\n",
              "      box-shadow: 0px 1px 3px 1px rgba(0, 0, 0, 0.15);\n",
              "      filter: drop-shadow(0px 1px 2px rgba(0, 0, 0, 0.3));\n",
              "      fill: #FFFFFF;\n",
              "    }\n",
              "  </style>\n",
              "\n",
              "      <script>\n",
              "        const buttonEl =\n",
              "          document.querySelector('#df-599be2ce-c9cb-4744-b91f-ed9e29143723 button.colab-df-convert');\n",
              "        buttonEl.style.display =\n",
              "          google.colab.kernel.accessAllowed ? 'block' : 'none';\n",
              "\n",
              "        async function convertToInteractive(key) {\n",
              "          const element = document.querySelector('#df-599be2ce-c9cb-4744-b91f-ed9e29143723');\n",
              "          const dataTable =\n",
              "            await google.colab.kernel.invokeFunction('convertToInteractive',\n",
              "                                                     [key], {});\n",
              "          if (!dataTable) return;\n",
              "\n",
              "          const docLinkHtml = 'Like what you see? Visit the ' +\n",
              "            '<a target=\"_blank\" href=https://colab.research.google.com/notebooks/data_table.ipynb>data table notebook</a>'\n",
              "            + ' to learn more about interactive tables.';\n",
              "          element.innerHTML = '';\n",
              "          dataTable['output_type'] = 'display_data';\n",
              "          await google.colab.output.renderOutput(dataTable, element);\n",
              "          const docLink = document.createElement('div');\n",
              "          docLink.innerHTML = docLinkHtml;\n",
              "          element.appendChild(docLink);\n",
              "        }\n",
              "      </script>\n",
              "    </div>\n",
              "  </div>\n",
              "  "
            ]
          },
          "metadata": {},
          "execution_count": 41
        }
      ]
    },
    {
      "cell_type": "code",
      "source": [
        "mean_rent_per_region = pd.merge(mean_std, CI, on=\"Region\")\n",
        "mean_rent_per_region"
      ],
      "metadata": {
        "colab": {
          "base_uri": "https://localhost:8080/",
          "height": 390
        },
        "id": "pbTxGbC93ayW",
        "outputId": "04c34524-61bd-4f77-a0f0-b806146aa13c"
      },
      "execution_count": 42,
      "outputs": [
        {
          "output_type": "execute_result",
          "data": {
            "text/plain": [
              "                        mean          std  \\\n",
              "Region                                      \n",
              "Charlottenburg   1753.452532  1125.786523   \n",
              "Friedrichsfelde  1043.871731   403.402469   \n",
              "Kreuzberg        2049.138085  1172.802355   \n",
              "Köpenick         1125.475818   390.822563   \n",
              "Mitte            2408.725033  1543.059190   \n",
              "Neukölln         1188.114915   552.145415   \n",
              "Prenzlauer       1996.962264  1088.544439   \n",
              "Tiergarten       1914.824795   786.464690   \n",
              "Wedding           847.138571   333.446416   \n",
              "Wilmersdorf      1748.646226   941.443278   \n",
              "\n",
              "                                                        CI  \n",
              "Region                                                      \n",
              "Charlottenburg    (-2548.0068758910706, 5427.245930939527)  \n",
              "Friedrichsfelde   (-3345.3296862653624, 4792.603885679383)  \n",
              "Kreuzberg          (-3956.480383163768, 7178.420823135066)  \n",
              "Köpenick          (-3909.1781468258587, 5425.476527700731)  \n",
              "Mitte              (-3523.7716065778877, 7475.55582886286)  \n",
              "Neukölln           (-3170.249172906346, 4910.509503181728)  \n",
              "Prenzlauer          (-4228.51808392877, 7314.024787195265)  \n",
              "Tiergarten         (-5817.942516406152, 8519.232001472785)  \n",
              "Wedding          (-2673.2463548109818, 3853.8313423361515)  \n",
              "Wilmersdorf       (-3783.1982102089078, 6473.287714739345)  "
            ],
            "text/html": [
              "\n",
              "  <div id=\"df-7a00e533-b538-488b-9226-faa9c4433889\">\n",
              "    <div class=\"colab-df-container\">\n",
              "      <div>\n",
              "<style scoped>\n",
              "    .dataframe tbody tr th:only-of-type {\n",
              "        vertical-align: middle;\n",
              "    }\n",
              "\n",
              "    .dataframe tbody tr th {\n",
              "        vertical-align: top;\n",
              "    }\n",
              "\n",
              "    .dataframe thead th {\n",
              "        text-align: right;\n",
              "    }\n",
              "</style>\n",
              "<table border=\"1\" class=\"dataframe\">\n",
              "  <thead>\n",
              "    <tr style=\"text-align: right;\">\n",
              "      <th></th>\n",
              "      <th>mean</th>\n",
              "      <th>std</th>\n",
              "      <th>CI</th>\n",
              "    </tr>\n",
              "    <tr>\n",
              "      <th>Region</th>\n",
              "      <th></th>\n",
              "      <th></th>\n",
              "      <th></th>\n",
              "    </tr>\n",
              "  </thead>\n",
              "  <tbody>\n",
              "    <tr>\n",
              "      <th>Charlottenburg</th>\n",
              "      <td>1753.452532</td>\n",
              "      <td>1125.786523</td>\n",
              "      <td>(-2548.0068758910706, 5427.245930939527)</td>\n",
              "    </tr>\n",
              "    <tr>\n",
              "      <th>Friedrichsfelde</th>\n",
              "      <td>1043.871731</td>\n",
              "      <td>403.402469</td>\n",
              "      <td>(-3345.3296862653624, 4792.603885679383)</td>\n",
              "    </tr>\n",
              "    <tr>\n",
              "      <th>Kreuzberg</th>\n",
              "      <td>2049.138085</td>\n",
              "      <td>1172.802355</td>\n",
              "      <td>(-3956.480383163768, 7178.420823135066)</td>\n",
              "    </tr>\n",
              "    <tr>\n",
              "      <th>Köpenick</th>\n",
              "      <td>1125.475818</td>\n",
              "      <td>390.822563</td>\n",
              "      <td>(-3909.1781468258587, 5425.476527700731)</td>\n",
              "    </tr>\n",
              "    <tr>\n",
              "      <th>Mitte</th>\n",
              "      <td>2408.725033</td>\n",
              "      <td>1543.059190</td>\n",
              "      <td>(-3523.7716065778877, 7475.55582886286)</td>\n",
              "    </tr>\n",
              "    <tr>\n",
              "      <th>Neukölln</th>\n",
              "      <td>1188.114915</td>\n",
              "      <td>552.145415</td>\n",
              "      <td>(-3170.249172906346, 4910.509503181728)</td>\n",
              "    </tr>\n",
              "    <tr>\n",
              "      <th>Prenzlauer</th>\n",
              "      <td>1996.962264</td>\n",
              "      <td>1088.544439</td>\n",
              "      <td>(-4228.51808392877, 7314.024787195265)</td>\n",
              "    </tr>\n",
              "    <tr>\n",
              "      <th>Tiergarten</th>\n",
              "      <td>1914.824795</td>\n",
              "      <td>786.464690</td>\n",
              "      <td>(-5817.942516406152, 8519.232001472785)</td>\n",
              "    </tr>\n",
              "    <tr>\n",
              "      <th>Wedding</th>\n",
              "      <td>847.138571</td>\n",
              "      <td>333.446416</td>\n",
              "      <td>(-2673.2463548109818, 3853.8313423361515)</td>\n",
              "    </tr>\n",
              "    <tr>\n",
              "      <th>Wilmersdorf</th>\n",
              "      <td>1748.646226</td>\n",
              "      <td>941.443278</td>\n",
              "      <td>(-3783.1982102089078, 6473.287714739345)</td>\n",
              "    </tr>\n",
              "  </tbody>\n",
              "</table>\n",
              "</div>\n",
              "      <button class=\"colab-df-convert\" onclick=\"convertToInteractive('df-7a00e533-b538-488b-9226-faa9c4433889')\"\n",
              "              title=\"Convert this dataframe to an interactive table.\"\n",
              "              style=\"display:none;\">\n",
              "        \n",
              "  <svg xmlns=\"http://www.w3.org/2000/svg\" height=\"24px\"viewBox=\"0 0 24 24\"\n",
              "       width=\"24px\">\n",
              "    <path d=\"M0 0h24v24H0V0z\" fill=\"none\"/>\n",
              "    <path d=\"M18.56 5.44l.94 2.06.94-2.06 2.06-.94-2.06-.94-.94-2.06-.94 2.06-2.06.94zm-11 1L8.5 8.5l.94-2.06 2.06-.94-2.06-.94L8.5 2.5l-.94 2.06-2.06.94zm10 10l.94 2.06.94-2.06 2.06-.94-2.06-.94-.94-2.06-.94 2.06-2.06.94z\"/><path d=\"M17.41 7.96l-1.37-1.37c-.4-.4-.92-.59-1.43-.59-.52 0-1.04.2-1.43.59L10.3 9.45l-7.72 7.72c-.78.78-.78 2.05 0 2.83L4 21.41c.39.39.9.59 1.41.59.51 0 1.02-.2 1.41-.59l7.78-7.78 2.81-2.81c.8-.78.8-2.07 0-2.86zM5.41 20L4 18.59l7.72-7.72 1.47 1.35L5.41 20z\"/>\n",
              "  </svg>\n",
              "      </button>\n",
              "      \n",
              "  <style>\n",
              "    .colab-df-container {\n",
              "      display:flex;\n",
              "      flex-wrap:wrap;\n",
              "      gap: 12px;\n",
              "    }\n",
              "\n",
              "    .colab-df-convert {\n",
              "      background-color: #E8F0FE;\n",
              "      border: none;\n",
              "      border-radius: 50%;\n",
              "      cursor: pointer;\n",
              "      display: none;\n",
              "      fill: #1967D2;\n",
              "      height: 32px;\n",
              "      padding: 0 0 0 0;\n",
              "      width: 32px;\n",
              "    }\n",
              "\n",
              "    .colab-df-convert:hover {\n",
              "      background-color: #E2EBFA;\n",
              "      box-shadow: 0px 1px 2px rgba(60, 64, 67, 0.3), 0px 1px 3px 1px rgba(60, 64, 67, 0.15);\n",
              "      fill: #174EA6;\n",
              "    }\n",
              "\n",
              "    [theme=dark] .colab-df-convert {\n",
              "      background-color: #3B4455;\n",
              "      fill: #D2E3FC;\n",
              "    }\n",
              "\n",
              "    [theme=dark] .colab-df-convert:hover {\n",
              "      background-color: #434B5C;\n",
              "      box-shadow: 0px 1px 3px 1px rgba(0, 0, 0, 0.15);\n",
              "      filter: drop-shadow(0px 1px 2px rgba(0, 0, 0, 0.3));\n",
              "      fill: #FFFFFF;\n",
              "    }\n",
              "  </style>\n",
              "\n",
              "      <script>\n",
              "        const buttonEl =\n",
              "          document.querySelector('#df-7a00e533-b538-488b-9226-faa9c4433889 button.colab-df-convert');\n",
              "        buttonEl.style.display =\n",
              "          google.colab.kernel.accessAllowed ? 'block' : 'none';\n",
              "\n",
              "        async function convertToInteractive(key) {\n",
              "          const element = document.querySelector('#df-7a00e533-b538-488b-9226-faa9c4433889');\n",
              "          const dataTable =\n",
              "            await google.colab.kernel.invokeFunction('convertToInteractive',\n",
              "                                                     [key], {});\n",
              "          if (!dataTable) return;\n",
              "\n",
              "          const docLinkHtml = 'Like what you see? Visit the ' +\n",
              "            '<a target=\"_blank\" href=https://colab.research.google.com/notebooks/data_table.ipynb>data table notebook</a>'\n",
              "            + ' to learn more about interactive tables.';\n",
              "          element.innerHTML = '';\n",
              "          dataTable['output_type'] = 'display_data';\n",
              "          await google.colab.output.renderOutput(dataTable, element);\n",
              "          const docLink = document.createElement('div');\n",
              "          docLink.innerHTML = docLinkHtml;\n",
              "          element.appendChild(docLink);\n",
              "        }\n",
              "      </script>\n",
              "    </div>\n",
              "  </div>\n",
              "  "
            ]
          },
          "metadata": {},
          "execution_count": 42
        }
      ]
    },
    {
      "cell_type": "markdown",
      "source": [
        "# Summarizing with tables and plots\n",
        "\n",
        "`Pandas describe()`\n",
        "\n",
        "Pandas offers a very useful tool to describe all your dataset at once:"
      ],
      "metadata": {
        "id": "RVq-DxYjsCZN"
      }
    },
    {
      "cell_type": "code",
      "source": [
        "rentals.describe().transpose()"
      ],
      "metadata": {
        "id": "vhMeFrXxkcc6",
        "colab": {
          "base_uri": "https://localhost:8080/",
          "height": 173
        },
        "outputId": "f5105e00-c509-43a3-ef90-7bf1afe13878"
      },
      "execution_count": 43,
      "outputs": [
        {
          "output_type": "execute_result",
          "data": {
            "text/plain": [
              "                   count         mean          std      min        25%  \\\n",
              "Rooms              764.0     2.549738     1.010826     1.00     2.0000   \n",
              "Rent               764.0  1768.560942  1118.263961   271.25  1039.5000   \n",
              "Year_Construction  764.0  1983.695026    48.006060  1864.00  1959.0000   \n",
              "Space              764.0    84.656270    44.195338    14.00    55.0975   \n",
              "\n",
              "                       50%      75%       max  \n",
              "Rooms                 2.50     3.00      7.00  \n",
              "Rent               1565.48  2170.00  14207.00  \n",
              "Year_Construction  2015.00  2019.00   2020.00  \n",
              "Space                77.60   104.45    413.91  "
            ],
            "text/html": [
              "\n",
              "  <div id=\"df-385bdf7e-d04b-4029-b3b2-b62601b75513\">\n",
              "    <div class=\"colab-df-container\">\n",
              "      <div>\n",
              "<style scoped>\n",
              "    .dataframe tbody tr th:only-of-type {\n",
              "        vertical-align: middle;\n",
              "    }\n",
              "\n",
              "    .dataframe tbody tr th {\n",
              "        vertical-align: top;\n",
              "    }\n",
              "\n",
              "    .dataframe thead th {\n",
              "        text-align: right;\n",
              "    }\n",
              "</style>\n",
              "<table border=\"1\" class=\"dataframe\">\n",
              "  <thead>\n",
              "    <tr style=\"text-align: right;\">\n",
              "      <th></th>\n",
              "      <th>count</th>\n",
              "      <th>mean</th>\n",
              "      <th>std</th>\n",
              "      <th>min</th>\n",
              "      <th>25%</th>\n",
              "      <th>50%</th>\n",
              "      <th>75%</th>\n",
              "      <th>max</th>\n",
              "    </tr>\n",
              "  </thead>\n",
              "  <tbody>\n",
              "    <tr>\n",
              "      <th>Rooms</th>\n",
              "      <td>764.0</td>\n",
              "      <td>2.549738</td>\n",
              "      <td>1.010826</td>\n",
              "      <td>1.00</td>\n",
              "      <td>2.0000</td>\n",
              "      <td>2.50</td>\n",
              "      <td>3.00</td>\n",
              "      <td>7.00</td>\n",
              "    </tr>\n",
              "    <tr>\n",
              "      <th>Rent</th>\n",
              "      <td>764.0</td>\n",
              "      <td>1768.560942</td>\n",
              "      <td>1118.263961</td>\n",
              "      <td>271.25</td>\n",
              "      <td>1039.5000</td>\n",
              "      <td>1565.48</td>\n",
              "      <td>2170.00</td>\n",
              "      <td>14207.00</td>\n",
              "    </tr>\n",
              "    <tr>\n",
              "      <th>Year_Construction</th>\n",
              "      <td>764.0</td>\n",
              "      <td>1983.695026</td>\n",
              "      <td>48.006060</td>\n",
              "      <td>1864.00</td>\n",
              "      <td>1959.0000</td>\n",
              "      <td>2015.00</td>\n",
              "      <td>2019.00</td>\n",
              "      <td>2020.00</td>\n",
              "    </tr>\n",
              "    <tr>\n",
              "      <th>Space</th>\n",
              "      <td>764.0</td>\n",
              "      <td>84.656270</td>\n",
              "      <td>44.195338</td>\n",
              "      <td>14.00</td>\n",
              "      <td>55.0975</td>\n",
              "      <td>77.60</td>\n",
              "      <td>104.45</td>\n",
              "      <td>413.91</td>\n",
              "    </tr>\n",
              "  </tbody>\n",
              "</table>\n",
              "</div>\n",
              "      <button class=\"colab-df-convert\" onclick=\"convertToInteractive('df-385bdf7e-d04b-4029-b3b2-b62601b75513')\"\n",
              "              title=\"Convert this dataframe to an interactive table.\"\n",
              "              style=\"display:none;\">\n",
              "        \n",
              "  <svg xmlns=\"http://www.w3.org/2000/svg\" height=\"24px\"viewBox=\"0 0 24 24\"\n",
              "       width=\"24px\">\n",
              "    <path d=\"M0 0h24v24H0V0z\" fill=\"none\"/>\n",
              "    <path d=\"M18.56 5.44l.94 2.06.94-2.06 2.06-.94-2.06-.94-.94-2.06-.94 2.06-2.06.94zm-11 1L8.5 8.5l.94-2.06 2.06-.94-2.06-.94L8.5 2.5l-.94 2.06-2.06.94zm10 10l.94 2.06.94-2.06 2.06-.94-2.06-.94-.94-2.06-.94 2.06-2.06.94z\"/><path d=\"M17.41 7.96l-1.37-1.37c-.4-.4-.92-.59-1.43-.59-.52 0-1.04.2-1.43.59L10.3 9.45l-7.72 7.72c-.78.78-.78 2.05 0 2.83L4 21.41c.39.39.9.59 1.41.59.51 0 1.02-.2 1.41-.59l7.78-7.78 2.81-2.81c.8-.78.8-2.07 0-2.86zM5.41 20L4 18.59l7.72-7.72 1.47 1.35L5.41 20z\"/>\n",
              "  </svg>\n",
              "      </button>\n",
              "      \n",
              "  <style>\n",
              "    .colab-df-container {\n",
              "      display:flex;\n",
              "      flex-wrap:wrap;\n",
              "      gap: 12px;\n",
              "    }\n",
              "\n",
              "    .colab-df-convert {\n",
              "      background-color: #E8F0FE;\n",
              "      border: none;\n",
              "      border-radius: 50%;\n",
              "      cursor: pointer;\n",
              "      display: none;\n",
              "      fill: #1967D2;\n",
              "      height: 32px;\n",
              "      padding: 0 0 0 0;\n",
              "      width: 32px;\n",
              "    }\n",
              "\n",
              "    .colab-df-convert:hover {\n",
              "      background-color: #E2EBFA;\n",
              "      box-shadow: 0px 1px 2px rgba(60, 64, 67, 0.3), 0px 1px 3px 1px rgba(60, 64, 67, 0.15);\n",
              "      fill: #174EA6;\n",
              "    }\n",
              "\n",
              "    [theme=dark] .colab-df-convert {\n",
              "      background-color: #3B4455;\n",
              "      fill: #D2E3FC;\n",
              "    }\n",
              "\n",
              "    [theme=dark] .colab-df-convert:hover {\n",
              "      background-color: #434B5C;\n",
              "      box-shadow: 0px 1px 3px 1px rgba(0, 0, 0, 0.15);\n",
              "      filter: drop-shadow(0px 1px 2px rgba(0, 0, 0, 0.3));\n",
              "      fill: #FFFFFF;\n",
              "    }\n",
              "  </style>\n",
              "\n",
              "      <script>\n",
              "        const buttonEl =\n",
              "          document.querySelector('#df-385bdf7e-d04b-4029-b3b2-b62601b75513 button.colab-df-convert');\n",
              "        buttonEl.style.display =\n",
              "          google.colab.kernel.accessAllowed ? 'block' : 'none';\n",
              "\n",
              "        async function convertToInteractive(key) {\n",
              "          const element = document.querySelector('#df-385bdf7e-d04b-4029-b3b2-b62601b75513');\n",
              "          const dataTable =\n",
              "            await google.colab.kernel.invokeFunction('convertToInteractive',\n",
              "                                                     [key], {});\n",
              "          if (!dataTable) return;\n",
              "\n",
              "          const docLinkHtml = 'Like what you see? Visit the ' +\n",
              "            '<a target=\"_blank\" href=https://colab.research.google.com/notebooks/data_table.ipynb>data table notebook</a>'\n",
              "            + ' to learn more about interactive tables.';\n",
              "          element.innerHTML = '';\n",
              "          dataTable['output_type'] = 'display_data';\n",
              "          await google.colab.output.renderOutput(dataTable, element);\n",
              "          const docLink = document.createElement('div');\n",
              "          docLink.innerHTML = docLinkHtml;\n",
              "          element.appendChild(docLink);\n",
              "        }\n",
              "      </script>\n",
              "    </div>\n",
              "  </div>\n",
              "  "
            ]
          },
          "metadata": {},
          "execution_count": 43
        }
      ]
    },
    {
      "cell_type": "markdown",
      "source": [
        "### Boxplots\n",
        "\n",
        "Boxplots offer a visual summary of the data\n",
        "\n",
        "<img src=\"https://www.wellbeingatschool.org.nz/sites/default/files/W@S_boxplot-labels.png\" width=\"400\" />"
      ],
      "metadata": {
        "id": "ca0osWba2PMQ"
      }
    },
    {
      "cell_type": "code",
      "source": [
        "rentals.boxplot(by ='Rooms', column =['Rent'], grid = False, figsize=(20,10))"
      ],
      "metadata": {
        "colab": {
          "base_uri": "https://localhost:8080/",
          "height": 730
        },
        "id": "5r_m5J5C3Z1P",
        "outputId": "4dff64ec-5d60-415d-9ed5-5301678b4ef4"
      },
      "execution_count": 44,
      "outputs": [
        {
          "output_type": "stream",
          "name": "stderr",
          "text": [
            "/usr/local/lib/python3.8/dist-packages/matplotlib/cbook/__init__.py:1376: VisibleDeprecationWarning: Creating an ndarray from ragged nested sequences (which is a list-or-tuple of lists-or-tuples-or ndarrays with different lengths or shapes) is deprecated. If you meant to do this, you must specify 'dtype=object' when creating the ndarray.\n",
            "  X = np.atleast_1d(X.T if isinstance(X, np.ndarray) else np.asarray(X))\n"
          ]
        },
        {
          "output_type": "execute_result",
          "data": {
            "text/plain": [
              "<matplotlib.axes._subplots.AxesSubplot at 0x7f8da2136eb0>"
            ]
          },
          "metadata": {},
          "execution_count": 44
        },
        {
          "output_type": "display_data",
          "data": {
            "text/plain": [
              "<Figure size 1440x720 with 1 Axes>"
            ],
            "image/png": "[encoded data removed]"
          },
          "metadata": {
            "needs_background": "light"
          }
        }
      ]
    },
    {
      "cell_type": "markdown",
      "source": [
        "# SUMMARY - Parts 1 and 2\n",
        "## Best practices for reporting \n",
        "\n",
        "\n",
        "\n",
        "*   Always start with histograms to check if the distribution is symmetrical or asymmetrical, unimodal, bimodal, or multimodal\n",
        "*   Based on the shape of the distribution, choose to use either the mean or median \n",
        "* Use standard deviation with the mean, or IQR with the median\n",
        "* If the data is discrete or categorical, don't use means or medians. Instead, show the frequency (%) of most relevant categories (the mode/modes)\n",
        "\n",
        "---\n"
      ],
      "metadata": {
        "id": "hjjfYHOXYe6p"
      }
    },
    {
      "cell_type": "markdown",
      "source": [
        "# PART 3"
      ],
      "metadata": {
        "id": "hRynXvBSxgo_"
      }
    },
    {
      "cell_type": "markdown",
      "source": [
        "## Outlier detection\n",
        "\n",
        "Outliers are observations that have a very low probability of occurring, if we can trust that we obtained a representative sample of the variable that we are analysing.\n",
        "\n",
        "Reasons for the presence outliers:\n",
        "\n",
        "\n",
        "1.   Human mistakes like typos, data conversion\n",
        "2. Technical mistakes (equipment malfunctioning)\n",
        "3.   Biased sampling\n",
        "4. Presence of rare underlying factors that we know already, or not\n",
        "\n",
        "What can we do with them?\n",
        "\n",
        "\n",
        "*   If we know that they were mistakes in data collection or data preparation, we can fix them or remove them\n",
        "*   Improve the sampling strategy and increase sample size\n",
        "\n",
        "\n",
        "This [blog post](https://towardsdatascience.com/5-outlier-detection-methods-that-every-data-enthusiast-must-know-f917bf439210) has a very good explanation of other methods for outlier detection\n",
        "\n",
        "**Simplest method:**\n",
        "* Calculate the Q1 and Q3 of the variable\n",
        "* Calculate the IQR\n",
        "* The lowest threshold becomes Q1 – 1.5 * IQR\n",
        "* The highest threshold becomes Q3 + 1.5 * IQR\n",
        "* Delete the datapoints that are below the lowest threshold and above the highest threshold\n",
        "\n",
        "\n",
        "\n",
        "\n"
      ],
      "metadata": {
        "id": "wOkOd8mXxkfD"
      }
    },
    {
      "cell_type": "markdown",
      "source": [
        "### Exercise\n",
        "\n",
        "* Detect outliers in the rent prices. What kind of outliers are there?\n",
        "* Detect outliers in apartment sizes. What kind of outliers are there?"
      ],
      "metadata": {
        "id": "UYOZITvtETkF"
      }
    },
    {
      "cell_type": "code",
      "source": [
        "# Calculate the Q1 and Q3 of the variable\n",
        "q1 = rentals.Rent.quantile(0.25)\n",
        "q3 = rentals.Rent.quantile(0.75)\n",
        "\n",
        "# Calculate the IQR\n",
        "iqr = q3 - q1\n",
        "\n",
        "# The lowest threshold becomes Q1 – 1.5 * IQR\n",
        "lowest = q1 - 1.5 * iqr\n",
        "# The highest threshold becomes Q3 + 1.5 * IQR\n",
        "highest = q3 + 1.5 * iqr"
      ],
      "metadata": {
        "id": "U4ptZVhZERLw"
      },
      "execution_count": 59,
      "outputs": []
    },
    {
      "cell_type": "code",
      "source": [
        "rentals.Rent.describe().transpose()"
      ],
      "metadata": {
        "colab": {
          "base_uri": "https://localhost:8080/"
        },
        "id": "t4ABWjJxgI0k",
        "outputId": "64b30ad6-631f-45be-be85-a09d4c846c8d"
      },
      "execution_count": 60,
      "outputs": [
        {
          "output_type": "execute_result",
          "data": {
            "text/plain": [
              "count      764.000000\n",
              "mean      1768.560942\n",
              "std       1118.263961\n",
              "min        271.250000\n",
              "25%       1039.500000\n",
              "50%       1565.480000\n",
              "75%       2170.000000\n",
              "max      14207.000000\n",
              "Name: Rent, dtype: float64"
            ]
          },
          "metadata": {},
          "execution_count": 60
        }
      ]
    },
    {
      "cell_type": "code",
      "source": [
        "# negative value probably because of asymmetrical data\n",
        "lowest, highest"
      ],
      "metadata": {
        "colab": {
          "base_uri": "https://localhost:8080/"
        },
        "id": "DMnfLyGmglkR",
        "outputId": "e59a5968-33fa-4ea6-8f9f-0d2d3197c83d"
      },
      "execution_count": 61,
      "outputs": [
        {
          "output_type": "execute_result",
          "data": {
            "text/plain": [
              "(-656.25, 3865.75)"
            ]
          },
          "metadata": {},
          "execution_count": 61
        }
      ]
    },
    {
      "cell_type": "code",
      "source": [
        "# check if the method makes sense for this dataset\n",
        "rentals[rentals.Rent >= highest]"
      ],
      "metadata": {
        "colab": {
          "base_uri": "https://localhost:8080/",
          "height": 1000
        },
        "id": "ZheehL3ZhQbJ",
        "outputId": "2d107c61-29eb-442d-d090-47ff28e7a096"
      },
      "execution_count": 48,
      "outputs": [
        {
          "output_type": "execute_result",
          "data": {
            "text/plain": [
              "             Region                           Condition  Rooms      Rent  \\\n",
              "13        Kreuzberg                      mint_condition    2.0   6450.00   \n",
              "60       Prenzlauer                      first_time_use    4.0   4500.00   \n",
              "61            Mitte                      mint_condition    4.0   5530.00   \n",
              "68       Tiergarten                      mint_condition    5.0   4945.00   \n",
              "76        Kreuzberg                      first_time_use    5.0   4400.00   \n",
              "101     Wilmersdorf  first_time_use_after_refurbishment    7.0   4288.00   \n",
              "103      Tiergarten                      mint_condition    3.0   4500.00   \n",
              "117           Mitte                      mint_condition    4.0   4475.00   \n",
              "119      Prenzlauer                      mint_condition    5.0   5930.00   \n",
              "220           Mitte                      mint_condition    4.0   4192.63   \n",
              "244      Tiergarten                         refurbished    3.0   4500.00   \n",
              "245  Charlottenburg                      no_information    5.0   9774.00   \n",
              "268           Mitte                      mint_condition    4.0   4600.00   \n",
              "281           Mitte                      first_time_use    5.0   6855.48   \n",
              "285           Mitte                      first_time_use    5.0   4325.69   \n",
              "328           Mitte                      first_time_use    4.0   5774.83   \n",
              "379       Kreuzberg                     fully_renovated    3.0   4875.00   \n",
              "446           Mitte                     fully_renovated    4.0   4800.00   \n",
              "466      Tiergarten                      first_time_use    4.0   3994.00   \n",
              "469      Tiergarten                      first_time_use    4.0   4184.00   \n",
              "560      Tiergarten                     fully_renovated    4.0   4800.00   \n",
              "569           Mitte                      first_time_use    4.0   4450.00   \n",
              "590           Mitte                         refurbished    3.0   5936.40   \n",
              "591           Mitte                         refurbished    3.0   5936.40   \n",
              "592           Mitte                         refurbished    3.0   4747.60   \n",
              "594           Mitte                         refurbished    3.0   4747.60   \n",
              "596           Mitte                         refurbished    3.0   4747.60   \n",
              "633           Mitte                      mint_condition    4.0   4678.30   \n",
              "646           Mitte                      first_time_use    3.0   5322.50   \n",
              "653           Mitte                      first_time_use    2.0   6022.50   \n",
              "675     Wilmersdorf                           well_kept    7.0   5876.35   \n",
              "694           Mitte                      mint_condition    5.0  14207.00   \n",
              "741           Mitte                      mint_condition    4.0   3925.00   \n",
              "748           Mitte                      mint_condition    4.0   4040.00   \n",
              "\n",
              "     Year_Construction   Space  \n",
              "13                2016  186.00  \n",
              "60                1918  225.00  \n",
              "61                2016  201.00  \n",
              "68                2019  215.00  \n",
              "76                1867  236.00  \n",
              "101               1900  202.00  \n",
              "103               1887  230.00  \n",
              "117               2006  209.00  \n",
              "119               2005  324.00  \n",
              "220               2015  191.13  \n",
              "244               1887  230.00  \n",
              "245               1900  274.00  \n",
              "268               2013  160.00  \n",
              "281               2005  286.84  \n",
              "285               2015  198.75  \n",
              "328               2015  242.64  \n",
              "379               2010  195.00  \n",
              "446               1894  143.22  \n",
              "466               2019  160.00  \n",
              "469               2019  167.36  \n",
              "560               1885  240.00  \n",
              "569               2013  152.70  \n",
              "590               2018  131.92  \n",
              "591               2018  131.92  \n",
              "592               2018  110.41  \n",
              "594               2018  110.41  \n",
              "596               2018  110.41  \n",
              "633               2015  212.30  \n",
              "646               2019  123.00  \n",
              "653               2019  123.00  \n",
              "675               1912  300.00  \n",
              "694               2015  413.91  \n",
              "741               2016  138.00  \n",
              "748               2015  176.50  "
            ],
            "text/html": [
              "\n",
              "  <div id=\"df-f271c4f3-bdc9-4afb-8068-00975758c349\">\n",
              "    <div class=\"colab-df-container\">\n",
              "      <div>\n",
              "<style scoped>\n",
              "    .dataframe tbody tr th:only-of-type {\n",
              "        vertical-align: middle;\n",
              "    }\n",
              "\n",
              "    .dataframe tbody tr th {\n",
              "        vertical-align: top;\n",
              "    }\n",
              "\n",
              "    .dataframe thead th {\n",
              "        text-align: right;\n",
              "    }\n",
              "</style>\n",
              "<table border=\"1\" class=\"dataframe\">\n",
              "  <thead>\n",
              "    <tr style=\"text-align: right;\">\n",
              "      <th></th>\n",
              "      <th>Region</th>\n",
              "      <th>Condition</th>\n",
              "      <th>Rooms</th>\n",
              "      <th>Rent</th>\n",
              "      <th>Year_Construction</th>\n",
              "      <th>Space</th>\n",
              "    </tr>\n",
              "  </thead>\n",
              "  <tbody>\n",
              "    <tr>\n",
              "      <th>13</th>\n",
              "      <td>Kreuzberg</td>\n",
              "      <td>mint_condition</td>\n",
              "      <td>2.0</td>\n",
              "      <td>6450.00</td>\n",
              "      <td>2016</td>\n",
              "      <td>186.00</td>\n",
              "    </tr>\n",
              "    <tr>\n",
              "      <th>60</th>\n",
              "      <td>Prenzlauer</td>\n",
              "      <td>first_time_use</td>\n",
              "      <td>4.0</td>\n",
              "      <td>4500.00</td>\n",
              "      <td>1918</td>\n",
              "      <td>225.00</td>\n",
              "    </tr>\n",
              "    <tr>\n",
              "      <th>61</th>\n",
              "      <td>Mitte</td>\n",
              "      <td>mint_condition</td>\n",
              "      <td>4.0</td>\n",
              "      <td>5530.00</td>\n",
              "      <td>2016</td>\n",
              "      <td>201.00</td>\n",
              "    </tr>\n",
              "    <tr>\n",
              "      <th>68</th>\n",
              "      <td>Tiergarten</td>\n",
              "      <td>mint_condition</td>\n",
              "      <td>5.0</td>\n",
              "      <td>4945.00</td>\n",
              "      <td>2019</td>\n",
              "      <td>215.00</td>\n",
              "    </tr>\n",
              "    <tr>\n",
              "      <th>76</th>\n",
              "      <td>Kreuzberg</td>\n",
              "      <td>first_time_use</td>\n",
              "      <td>5.0</td>\n",
              "      <td>4400.00</td>\n",
              "      <td>1867</td>\n",
              "      <td>236.00</td>\n",
              "    </tr>\n",
              "    <tr>\n",
              "      <th>101</th>\n",
              "      <td>Wilmersdorf</td>\n",
              "      <td>first_time_use_after_refurbishment</td>\n",
              "      <td>7.0</td>\n",
              "      <td>4288.00</td>\n",
              "      <td>1900</td>\n",
              "      <td>202.00</td>\n",
              "    </tr>\n",
              "    <tr>\n",
              "      <th>103</th>\n",
              "      <td>Tiergarten</td>\n",
              "      <td>mint_condition</td>\n",
              "      <td>3.0</td>\n",
              "      <td>4500.00</td>\n",
              "      <td>1887</td>\n",
              "      <td>230.00</td>\n",
              "    </tr>\n",
              "    <tr>\n",
              "      <th>117</th>\n",
              "      <td>Mitte</td>\n",
              "      <td>mint_condition</td>\n",
              "      <td>4.0</td>\n",
              "      <td>4475.00</td>\n",
              "      <td>2006</td>\n",
              "      <td>209.00</td>\n",
              "    </tr>\n",
              "    <tr>\n",
              "      <th>119</th>\n",
              "      <td>Prenzlauer</td>\n",
              "      <td>mint_condition</td>\n",
              "      <td>5.0</td>\n",
              "      <td>5930.00</td>\n",
              "      <td>2005</td>\n",
              "      <td>324.00</td>\n",
              "    </tr>\n",
              "    <tr>\n",
              "      <th>220</th>\n",
              "      <td>Mitte</td>\n",
              "      <td>mint_condition</td>\n",
              "      <td>4.0</td>\n",
              "      <td>4192.63</td>\n",
              "      <td>2015</td>\n",
              "      <td>191.13</td>\n",
              "    </tr>\n",
              "    <tr>\n",
              "      <th>244</th>\n",
              "      <td>Tiergarten</td>\n",
              "      <td>refurbished</td>\n",
              "      <td>3.0</td>\n",
              "      <td>4500.00</td>\n",
              "      <td>1887</td>\n",
              "      <td>230.00</td>\n",
              "    </tr>\n",
              "    <tr>\n",
              "      <th>245</th>\n",
              "      <td>Charlottenburg</td>\n",
              "      <td>no_information</td>\n",
              "      <td>5.0</td>\n",
              "      <td>9774.00</td>\n",
              "      <td>1900</td>\n",
              "      <td>274.00</td>\n",
              "    </tr>\n",
              "    <tr>\n",
              "      <th>268</th>\n",
              "      <td>Mitte</td>\n",
              "      <td>mint_condition</td>\n",
              "      <td>4.0</td>\n",
              "      <td>4600.00</td>\n",
              "      <td>2013</td>\n",
              "      <td>160.00</td>\n",
              "    </tr>\n",
              "    <tr>\n",
              "      <th>281</th>\n",
              "      <td>Mitte</td>\n",
              "      <td>first_time_use</td>\n",
              "      <td>5.0</td>\n",
              "      <td>6855.48</td>\n",
              "      <td>2005</td>\n",
              "      <td>286.84</td>\n",
              "    </tr>\n",
              "    <tr>\n",
              "      <th>285</th>\n",
              "      <td>Mitte</td>\n",
              "      <td>first_time_use</td>\n",
              "      <td>5.0</td>\n",
              "      <td>4325.69</td>\n",
              "      <td>2015</td>\n",
              "      <td>198.75</td>\n",
              "    </tr>\n",
              "    <tr>\n",
              "      <th>328</th>\n",
              "      <td>Mitte</td>\n",
              "      <td>first_time_use</td>\n",
              "      <td>4.0</td>\n",
              "      <td>5774.83</td>\n",
              "      <td>2015</td>\n",
              "      <td>242.64</td>\n",
              "    </tr>\n",
              "    <tr>\n",
              "      <th>379</th>\n",
              "      <td>Kreuzberg</td>\n",
              "      <td>fully_renovated</td>\n",
              "      <td>3.0</td>\n",
              "      <td>4875.00</td>\n",
              "      <td>2010</td>\n",
              "      <td>195.00</td>\n",
              "    </tr>\n",
              "    <tr>\n",
              "      <th>446</th>\n",
              "      <td>Mitte</td>\n",
              "      <td>fully_renovated</td>\n",
              "      <td>4.0</td>\n",
              "      <td>4800.00</td>\n",
              "      <td>1894</td>\n",
              "      <td>143.22</td>\n",
              "    </tr>\n",
              "    <tr>\n",
              "      <th>466</th>\n",
              "      <td>Tiergarten</td>\n",
              "      <td>first_time_use</td>\n",
              "      <td>4.0</td>\n",
              "      <td>3994.00</td>\n",
              "      <td>2019</td>\n",
              "      <td>160.00</td>\n",
              "    </tr>\n",
              "    <tr>\n",
              "      <th>469</th>\n",
              "      <td>Tiergarten</td>\n",
              "      <td>first_time_use</td>\n",
              "      <td>4.0</td>\n",
              "      <td>4184.00</td>\n",
              "      <td>2019</td>\n",
              "      <td>167.36</td>\n",
              "    </tr>\n",
              "    <tr>\n",
              "      <th>560</th>\n",
              "      <td>Tiergarten</td>\n",
              "      <td>fully_renovated</td>\n",
              "      <td>4.0</td>\n",
              "      <td>4800.00</td>\n",
              "      <td>1885</td>\n",
              "      <td>240.00</td>\n",
              "    </tr>\n",
              "    <tr>\n",
              "      <th>569</th>\n",
              "      <td>Mitte</td>\n",
              "      <td>first_time_use</td>\n",
              "      <td>4.0</td>\n",
              "      <td>4450.00</td>\n",
              "      <td>2013</td>\n",
              "      <td>152.70</td>\n",
              "    </tr>\n",
              "    <tr>\n",
              "      <th>590</th>\n",
              "      <td>Mitte</td>\n",
              "      <td>refurbished</td>\n",
              "      <td>3.0</td>\n",
              "      <td>5936.40</td>\n",
              "      <td>2018</td>\n",
              "      <td>131.92</td>\n",
              "    </tr>\n",
              "    <tr>\n",
              "      <th>591</th>\n",
              "      <td>Mitte</td>\n",
              "      <td>refurbished</td>\n",
              "      <td>3.0</td>\n",
              "      <td>5936.40</td>\n",
              "      <td>2018</td>\n",
              "      <td>131.92</td>\n",
              "    </tr>\n",
              "    <tr>\n",
              "      <th>592</th>\n",
              "      <td>Mitte</td>\n",
              "      <td>refurbished</td>\n",
              "      <td>3.0</td>\n",
              "      <td>4747.60</td>\n",
              "      <td>2018</td>\n",
              "      <td>110.41</td>\n",
              "    </tr>\n",
              "    <tr>\n",
              "      <th>594</th>\n",
              "      <td>Mitte</td>\n",
              "      <td>refurbished</td>\n",
              "      <td>3.0</td>\n",
              "      <td>4747.60</td>\n",
              "      <td>2018</td>\n",
              "      <td>110.41</td>\n",
              "    </tr>\n",
              "    <tr>\n",
              "      <th>596</th>\n",
              "      <td>Mitte</td>\n",
              "      <td>refurbished</td>\n",
              "      <td>3.0</td>\n",
              "      <td>4747.60</td>\n",
              "      <td>2018</td>\n",
              "      <td>110.41</td>\n",
              "    </tr>\n",
              "    <tr>\n",
              "      <th>633</th>\n",
              "      <td>Mitte</td>\n",
              "      <td>mint_condition</td>\n",
              "      <td>4.0</td>\n",
              "      <td>4678.30</td>\n",
              "      <td>2015</td>\n",
              "      <td>212.30</td>\n",
              "    </tr>\n",
              "    <tr>\n",
              "      <th>646</th>\n",
              "      <td>Mitte</td>\n",
              "      <td>first_time_use</td>\n",
              "      <td>3.0</td>\n",
              "      <td>5322.50</td>\n",
              "      <td>2019</td>\n",
              "      <td>123.00</td>\n",
              "    </tr>\n",
              "    <tr>\n",
              "      <th>653</th>\n",
              "      <td>Mitte</td>\n",
              "      <td>first_time_use</td>\n",
              "      <td>2.0</td>\n",
              "      <td>6022.50</td>\n",
              "      <td>2019</td>\n",
              "      <td>123.00</td>\n",
              "    </tr>\n",
              "    <tr>\n",
              "      <th>675</th>\n",
              "      <td>Wilmersdorf</td>\n",
              "      <td>well_kept</td>\n",
              "      <td>7.0</td>\n",
              "      <td>5876.35</td>\n",
              "      <td>1912</td>\n",
              "      <td>300.00</td>\n",
              "    </tr>\n",
              "    <tr>\n",
              "      <th>694</th>\n",
              "      <td>Mitte</td>\n",
              "      <td>mint_condition</td>\n",
              "      <td>5.0</td>\n",
              "      <td>14207.00</td>\n",
              "      <td>2015</td>\n",
              "      <td>413.91</td>\n",
              "    </tr>\n",
              "    <tr>\n",
              "      <th>741</th>\n",
              "      <td>Mitte</td>\n",
              "      <td>mint_condition</td>\n",
              "      <td>4.0</td>\n",
              "      <td>3925.00</td>\n",
              "      <td>2016</td>\n",
              "      <td>138.00</td>\n",
              "    </tr>\n",
              "    <tr>\n",
              "      <th>748</th>\n",
              "      <td>Mitte</td>\n",
              "      <td>mint_condition</td>\n",
              "      <td>4.0</td>\n",
              "      <td>4040.00</td>\n",
              "      <td>2015</td>\n",
              "      <td>176.50</td>\n",
              "    </tr>\n",
              "  </tbody>\n",
              "</table>\n",
              "</div>\n",
              "      <button class=\"colab-df-convert\" onclick=\"convertToInteractive('df-f271c4f3-bdc9-4afb-8068-00975758c349')\"\n",
              "              title=\"Convert this dataframe to an interactive table.\"\n",
              "              style=\"display:none;\">\n",
              "        \n",
              "  <svg xmlns=\"http://www.w3.org/2000/svg\" height=\"24px\"viewBox=\"0 0 24 24\"\n",
              "       width=\"24px\">\n",
              "    <path d=\"M0 0h24v24H0V0z\" fill=\"none\"/>\n",
              "    <path d=\"M18.56 5.44l.94 2.06.94-2.06 2.06-.94-2.06-.94-.94-2.06-.94 2.06-2.06.94zm-11 1L8.5 8.5l.94-2.06 2.06-.94-2.06-.94L8.5 2.5l-.94 2.06-2.06.94zm10 10l.94 2.06.94-2.06 2.06-.94-2.06-.94-.94-2.06-.94 2.06-2.06.94z\"/><path d=\"M17.41 7.96l-1.37-1.37c-.4-.4-.92-.59-1.43-.59-.52 0-1.04.2-1.43.59L10.3 9.45l-7.72 7.72c-.78.78-.78 2.05 0 2.83L4 21.41c.39.39.9.59 1.41.59.51 0 1.02-.2 1.41-.59l7.78-7.78 2.81-2.81c.8-.78.8-2.07 0-2.86zM5.41 20L4 18.59l7.72-7.72 1.47 1.35L5.41 20z\"/>\n",
              "  </svg>\n",
              "      </button>\n",
              "      \n",
              "  <style>\n",
              "    .colab-df-container {\n",
              "      display:flex;\n",
              "      flex-wrap:wrap;\n",
              "      gap: 12px;\n",
              "    }\n",
              "\n",
              "    .colab-df-convert {\n",
              "      background-color: #E8F0FE;\n",
              "      border: none;\n",
              "      border-radius: 50%;\n",
              "      cursor: pointer;\n",
              "      display: none;\n",
              "      fill: #1967D2;\n",
              "      height: 32px;\n",
              "      padding: 0 0 0 0;\n",
              "      width: 32px;\n",
              "    }\n",
              "\n",
              "    .colab-df-convert:hover {\n",
              "      background-color: #E2EBFA;\n",
              "      box-shadow: 0px 1px 2px rgba(60, 64, 67, 0.3), 0px 1px 3px 1px rgba(60, 64, 67, 0.15);\n",
              "      fill: #174EA6;\n",
              "    }\n",
              "\n",
              "    [theme=dark] .colab-df-convert {\n",
              "      background-color: #3B4455;\n",
              "      fill: #D2E3FC;\n",
              "    }\n",
              "\n",
              "    [theme=dark] .colab-df-convert:hover {\n",
              "      background-color: #434B5C;\n",
              "      box-shadow: 0px 1px 3px 1px rgba(0, 0, 0, 0.15);\n",
              "      filter: drop-shadow(0px 1px 2px rgba(0, 0, 0, 0.3));\n",
              "      fill: #FFFFFF;\n",
              "    }\n",
              "  </style>\n",
              "\n",
              "      <script>\n",
              "        const buttonEl =\n",
              "          document.querySelector('#df-f271c4f3-bdc9-4afb-8068-00975758c349 button.colab-df-convert');\n",
              "        buttonEl.style.display =\n",
              "          google.colab.kernel.accessAllowed ? 'block' : 'none';\n",
              "\n",
              "        async function convertToInteractive(key) {\n",
              "          const element = document.querySelector('#df-f271c4f3-bdc9-4afb-8068-00975758c349');\n",
              "          const dataTable =\n",
              "            await google.colab.kernel.invokeFunction('convertToInteractive',\n",
              "                                                     [key], {});\n",
              "          if (!dataTable) return;\n",
              "\n",
              "          const docLinkHtml = 'Like what you see? Visit the ' +\n",
              "            '<a target=\"_blank\" href=https://colab.research.google.com/notebooks/data_table.ipynb>data table notebook</a>'\n",
              "            + ' to learn more about interactive tables.';\n",
              "          element.innerHTML = '';\n",
              "          dataTable['output_type'] = 'display_data';\n",
              "          await google.colab.output.renderOutput(dataTable, element);\n",
              "          const docLink = document.createElement('div');\n",
              "          docLink.innerHTML = docLinkHtml;\n",
              "          element.appendChild(docLink);\n",
              "        }\n",
              "      </script>\n",
              "    </div>\n",
              "  </div>\n",
              "  "
            ]
          },
          "metadata": {},
          "execution_count": 48
        }
      ]
    },
    {
      "cell_type": "markdown",
      "source": [
        "## Correlations\n",
        "\n",
        "So far we've been looking at ways to summarize each variable individually. With correlations, we can understand relationships in the data.\n",
        "\n",
        "When a correlation exists between 2 variables, it can be positive or negative.\n",
        "\n",
        "To measure the strenght of the correlation, we can use **correlation coefficients**:\n",
        "\n",
        "\n",
        "1.   For symmetrical distributions, it is usually safe to use [Pearson's correlation coefficient](https://en.wikipedia.org/wiki/Pearson_correlation_coefficient)\n",
        "2.   For asymmetrical distributions, it is usually more appropriate to use [Spearman's correlation coefficient](https://en.wikipedia.org/wiki/Spearman%27s_rank_correlation_coefficient)\n",
        "\n",
        "\n",
        "\n",
        "\n",
        "\n",
        "<img src=\"https://cdn1.byjus.com/wp-content/uploads/2021/03/Correlation.png\" width=\"400\" />"
      ],
      "metadata": {
        "id": "R5YFDH5S7ODL"
      }
    },
    {
      "cell_type": "markdown",
      "source": [
        "### Exercise\n"
      ],
      "metadata": {
        "id": "1DE4nFOjV12Z"
      }
    },
    {
      "cell_type": "markdown",
      "source": [
        "To start investigating correlations, always look at **scatter plots**:"
      ],
      "metadata": {
        "id": "iwR4o7GwWYPa"
      }
    },
    {
      "cell_type": "code",
      "source": [
        "rentals.plot.scatter(x='Space',  y='Rent', c='DarkBlue')"
      ],
      "metadata": {
        "id": "Y3HUxJDWwbso",
        "colab": {
          "base_uri": "https://localhost:8080/",
          "height": 296
        },
        "outputId": "78aa892a-bb7d-4682-a90c-682366c559f7"
      },
      "execution_count": 49,
      "outputs": [
        {
          "output_type": "execute_result",
          "data": {
            "text/plain": [
              "<matplotlib.axes._subplots.AxesSubplot at 0x7f8da2086340>"
            ]
          },
          "metadata": {},
          "execution_count": 49
        },
        {
          "output_type": "display_data",
          "data": {
            "text/plain": [
              "<Figure size 432x288 with 1 Axes>"
            ],
            "image/png": "[encoded data removed]"
          },
          "metadata": {
            "needs_background": "light"
          }
        }
      ]
    },
    {
      "cell_type": "markdown",
      "source": [
        "Now, remove the outliers or both variables with the IQR method, and plot again"
      ],
      "metadata": {
        "id": "kHs3q50TXpQC"
      }
    },
    {
      "cell_type": "code",
      "source": [
        "cleaned_rent_outliers = rentals[rentals.Rent <= highest]\n",
        "cleaned_rent_outliers.plot.scatter(x='Space',  y='Rent', c='DarkBlue')"
      ],
      "metadata": {
        "colab": {
          "base_uri": "https://localhost:8080/",
          "height": 296
        },
        "id": "mjwGyAnSjTSd",
        "outputId": "4d84b081-51b9-4cc3-bd1d-df962c873f90"
      },
      "execution_count": 62,
      "outputs": [
        {
          "output_type": "execute_result",
          "data": {
            "text/plain": [
              "<matplotlib.axes._subplots.AxesSubplot at 0x7f8da2247910>"
            ]
          },
          "metadata": {},
          "execution_count": 62
        },
        {
          "output_type": "display_data",
          "data": {
            "text/plain": [
              "<Figure size 432x288 with 1 Axes>"
            ],
            "image/png": "[encoded data removed]"
          },
          "metadata": {
            "needs_background": "light"
          }
        }
      ]
    },
    {
      "cell_type": "markdown",
      "source": [
        "Calculate the correlation coefficients:"
      ],
      "metadata": {
        "id": "N455vrijXxjB"
      }
    },
    {
      "cell_type": "code",
      "source": [
        "p_corr, _ = pearsonr(rentals.Rent, rentals.Space)\n",
        "print(\"Pearson's correlation: %.3f\" % p_corr)"
      ],
      "metadata": {
        "colab": {
          "base_uri": "https://localhost:8080/"
        },
        "id": "244q24V1Xwym",
        "outputId": "2e306891-995f-4aab-c33c-57fd074d3be6"
      },
      "execution_count": 52,
      "outputs": [
        {
          "output_type": "stream",
          "name": "stdout",
          "text": [
            "Pearson's correlation: 0.856\n"
          ]
        }
      ]
    },
    {
      "cell_type": "code",
      "source": [
        "s_corr, _ = spearmanr(rentals.Rent, rentals.Space)\n",
        "print(\"Spearman's correlation: %.3f\" % s_corr)"
      ],
      "metadata": {
        "colab": {
          "base_uri": "https://localhost:8080/"
        },
        "id": "lkQrh02AYa9m",
        "outputId": "5cafd41f-90c8-4434-dead-a7f39ed626af"
      },
      "execution_count": 53,
      "outputs": [
        {
          "output_type": "stream",
          "name": "stdout",
          "text": [
            "Spearman's correlation: 0.853\n"
          ]
        }
      ]
    }
  ]
}